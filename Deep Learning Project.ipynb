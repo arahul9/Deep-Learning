{
 "cells": [
  {
   "cell_type": "markdown",
   "metadata": {},
   "source": [
    "# Data Loading"
   ]
  },
  {
   "cell_type": "code",
   "execution_count": 14,
   "metadata": {},
   "outputs": [],
   "source": [
    "import numpy as np \n",
    "import pandas as pd \n",
    "from sklearn.model_selection import train_test_split\n",
    "from keras.utils import to_categorical\n",
    "from keras import models\n",
    "from keras.layers import LSTM\n",
    "from keras import layers\n",
    "from keras.layers import GaussianNoise\n",
    "from keras.optimizers import SGD\n",
    "from keras.constraints import maxnorm\n",
    "import keras\n",
    "import tensorflow as tf"
   ]
  },
  {
   "cell_type": "code",
   "execution_count": 15,
   "metadata": {},
   "outputs": [],
   "source": [
    "credit_data = pd.read_csv('F:/Rahul Subjects/Deep Learning/Total/DataSet.csv')"
   ]
  },
  {
   "cell_type": "markdown",
   "metadata": {},
   "source": [
    "# Filling missing values by using backpropoagtion technique"
   ]
  },
  {
   "cell_type": "code",
   "execution_count": 16,
   "metadata": {},
   "outputs": [],
   "source": [
    "credit_data['card_offer'].fillna(method='bfill', inplace=True)"
   ]
  },
  {
   "cell_type": "code",
   "execution_count": 17,
   "metadata": {},
   "outputs": [],
   "source": [
    "credit_data['est_income'] = pd.to_numeric(credit_data['est_income'], errors='coerce')"
   ]
  },
  {
   "cell_type": "code",
   "execution_count": 18,
   "metadata": {},
   "outputs": [
    {
     "data": {
      "text/html": [
       "<div>\n",
       "<style scoped>\n",
       "    .dataframe tbody tr th:only-of-type {\n",
       "        vertical-align: middle;\n",
       "    }\n",
       "\n",
       "    .dataframe tbody tr th {\n",
       "        vertical-align: top;\n",
       "    }\n",
       "\n",
       "    .dataframe thead th {\n",
       "        text-align: right;\n",
       "    }\n",
       "</style>\n",
       "<table border=\"1\" class=\"dataframe\">\n",
       "  <thead>\n",
       "    <tr style=\"text-align: right;\">\n",
       "      <th></th>\n",
       "      <th>customer_id</th>\n",
       "      <th>demographic_slice</th>\n",
       "      <th>country_reg</th>\n",
       "      <th>ad_exp</th>\n",
       "      <th>est_income</th>\n",
       "      <th>hold_bal</th>\n",
       "      <th>pref_cust_prob</th>\n",
       "      <th>imp_cscore</th>\n",
       "      <th>RiskScore</th>\n",
       "      <th>imp_crediteval</th>\n",
       "      <th>axio_score</th>\n",
       "      <th>card_offer</th>\n",
       "    </tr>\n",
       "  </thead>\n",
       "  <tbody>\n",
       "    <tr>\n",
       "      <td>0</td>\n",
       "      <td>713782</td>\n",
       "      <td>AX03efs</td>\n",
       "      <td>W</td>\n",
       "      <td>N</td>\n",
       "      <td>33407.90175</td>\n",
       "      <td>3.000000</td>\n",
       "      <td>0.531112</td>\n",
       "      <td>619</td>\n",
       "      <td>503.249027</td>\n",
       "      <td>23.977827</td>\n",
       "      <td>0.137289</td>\n",
       "      <td>False</td>\n",
       "    </tr>\n",
       "    <tr>\n",
       "      <td>1</td>\n",
       "      <td>515901</td>\n",
       "      <td>AX03efs</td>\n",
       "      <td>E</td>\n",
       "      <td>N</td>\n",
       "      <td>19927.53353</td>\n",
       "      <td>20.257927</td>\n",
       "      <td>0.297439</td>\n",
       "      <td>527</td>\n",
       "      <td>820.108146</td>\n",
       "      <td>22.986398</td>\n",
       "      <td>0.052264</td>\n",
       "      <td>False</td>\n",
       "    </tr>\n",
       "    <tr>\n",
       "      <td>2</td>\n",
       "      <td>95166</td>\n",
       "      <td>AX03efs</td>\n",
       "      <td>W</td>\n",
       "      <td>Y</td>\n",
       "      <td>51222.47100</td>\n",
       "      <td>4.000000</td>\n",
       "      <td>0.018463</td>\n",
       "      <td>606</td>\n",
       "      <td>586.605795</td>\n",
       "      <td>24.939219</td>\n",
       "      <td>0.452035</td>\n",
       "      <td>False</td>\n",
       "    </tr>\n",
       "    <tr>\n",
       "      <td>3</td>\n",
       "      <td>425557</td>\n",
       "      <td>AX03efs</td>\n",
       "      <td>E</td>\n",
       "      <td>Y</td>\n",
       "      <td>67211.58747</td>\n",
       "      <td>18.653631</td>\n",
       "      <td>0.089344</td>\n",
       "      <td>585</td>\n",
       "      <td>634.701982</td>\n",
       "      <td>24.841147</td>\n",
       "      <td>0.564619</td>\n",
       "      <td>False</td>\n",
       "    </tr>\n",
       "    <tr>\n",
       "      <td>4</td>\n",
       "      <td>624581</td>\n",
       "      <td>AX03efs</td>\n",
       "      <td>W</td>\n",
       "      <td>N</td>\n",
       "      <td>20093.34216</td>\n",
       "      <td>4.000000</td>\n",
       "      <td>0.094948</td>\n",
       "      <td>567</td>\n",
       "      <td>631.949979</td>\n",
       "      <td>24.679363</td>\n",
       "      <td>0.917304</td>\n",
       "      <td>False</td>\n",
       "    </tr>\n",
       "  </tbody>\n",
       "</table>\n",
       "</div>"
      ],
      "text/plain": [
       "   customer_id demographic_slice country_reg ad_exp   est_income   hold_bal  \\\n",
       "0       713782           AX03efs           W      N  33407.90175   3.000000   \n",
       "1       515901           AX03efs           E      N  19927.53353  20.257927   \n",
       "2        95166           AX03efs           W      Y  51222.47100   4.000000   \n",
       "3       425557           AX03efs           E      Y  67211.58747  18.653631   \n",
       "4       624581           AX03efs           W      N  20093.34216   4.000000   \n",
       "\n",
       "   pref_cust_prob  imp_cscore   RiskScore  imp_crediteval  axio_score  \\\n",
       "0        0.531112         619  503.249027       23.977827    0.137289   \n",
       "1        0.297439         527  820.108146       22.986398    0.052264   \n",
       "2        0.018463         606  586.605795       24.939219    0.452035   \n",
       "3        0.089344         585  634.701982       24.841147    0.564619   \n",
       "4        0.094948         567  631.949979       24.679363    0.917304   \n",
       "\n",
       "  card_offer  \n",
       "0      False  \n",
       "1      False  \n",
       "2      False  \n",
       "3      False  \n",
       "4      False  "
      ]
     },
     "execution_count": 18,
     "metadata": {},
     "output_type": "execute_result"
    }
   ],
   "source": [
    "credit_data.head()"
   ]
  },
  {
   "cell_type": "code",
   "execution_count": 19,
   "metadata": {},
   "outputs": [],
   "source": [
    "data = credit_data"
   ]
  },
  {
   "cell_type": "markdown",
   "metadata": {},
   "source": [
    "# Converting categoricals to integers"
   ]
  },
  {
   "cell_type": "code",
   "execution_count": 20,
   "metadata": {},
   "outputs": [
    {
     "data": {
      "text/html": [
       "<div>\n",
       "<style scoped>\n",
       "    .dataframe tbody tr th:only-of-type {\n",
       "        vertical-align: middle;\n",
       "    }\n",
       "\n",
       "    .dataframe tbody tr th {\n",
       "        vertical-align: top;\n",
       "    }\n",
       "\n",
       "    .dataframe thead th {\n",
       "        text-align: right;\n",
       "    }\n",
       "</style>\n",
       "<table border=\"1\" class=\"dataframe\">\n",
       "  <thead>\n",
       "    <tr style=\"text-align: right;\">\n",
       "      <th></th>\n",
       "      <th>customer_id</th>\n",
       "      <th>demographic_slice</th>\n",
       "      <th>country_reg</th>\n",
       "      <th>ad_exp</th>\n",
       "      <th>est_income</th>\n",
       "      <th>hold_bal</th>\n",
       "      <th>pref_cust_prob</th>\n",
       "      <th>imp_cscore</th>\n",
       "      <th>RiskScore</th>\n",
       "      <th>imp_crediteval</th>\n",
       "      <th>axio_score</th>\n",
       "      <th>card_offer</th>\n",
       "      <th>country_reg_label</th>\n",
       "    </tr>\n",
       "  </thead>\n",
       "  <tbody>\n",
       "    <tr>\n",
       "      <td>0</td>\n",
       "      <td>713782</td>\n",
       "      <td>AX03efs</td>\n",
       "      <td>W</td>\n",
       "      <td>N</td>\n",
       "      <td>33407.90175</td>\n",
       "      <td>3.000000</td>\n",
       "      <td>0.531112</td>\n",
       "      <td>619</td>\n",
       "      <td>503.249027</td>\n",
       "      <td>23.977827</td>\n",
       "      <td>0.137289</td>\n",
       "      <td>False</td>\n",
       "      <td>0</td>\n",
       "    </tr>\n",
       "    <tr>\n",
       "      <td>1</td>\n",
       "      <td>515901</td>\n",
       "      <td>AX03efs</td>\n",
       "      <td>E</td>\n",
       "      <td>N</td>\n",
       "      <td>19927.53353</td>\n",
       "      <td>20.257927</td>\n",
       "      <td>0.297439</td>\n",
       "      <td>527</td>\n",
       "      <td>820.108146</td>\n",
       "      <td>22.986398</td>\n",
       "      <td>0.052264</td>\n",
       "      <td>False</td>\n",
       "      <td>1</td>\n",
       "    </tr>\n",
       "    <tr>\n",
       "      <td>2</td>\n",
       "      <td>95166</td>\n",
       "      <td>AX03efs</td>\n",
       "      <td>W</td>\n",
       "      <td>Y</td>\n",
       "      <td>51222.47100</td>\n",
       "      <td>4.000000</td>\n",
       "      <td>0.018463</td>\n",
       "      <td>606</td>\n",
       "      <td>586.605795</td>\n",
       "      <td>24.939219</td>\n",
       "      <td>0.452035</td>\n",
       "      <td>False</td>\n",
       "      <td>0</td>\n",
       "    </tr>\n",
       "    <tr>\n",
       "      <td>3</td>\n",
       "      <td>425557</td>\n",
       "      <td>AX03efs</td>\n",
       "      <td>E</td>\n",
       "      <td>Y</td>\n",
       "      <td>67211.58747</td>\n",
       "      <td>18.653631</td>\n",
       "      <td>0.089344</td>\n",
       "      <td>585</td>\n",
       "      <td>634.701982</td>\n",
       "      <td>24.841147</td>\n",
       "      <td>0.564619</td>\n",
       "      <td>False</td>\n",
       "      <td>1</td>\n",
       "    </tr>\n",
       "    <tr>\n",
       "      <td>4</td>\n",
       "      <td>624581</td>\n",
       "      <td>AX03efs</td>\n",
       "      <td>W</td>\n",
       "      <td>N</td>\n",
       "      <td>20093.34216</td>\n",
       "      <td>4.000000</td>\n",
       "      <td>0.094948</td>\n",
       "      <td>567</td>\n",
       "      <td>631.949979</td>\n",
       "      <td>24.679363</td>\n",
       "      <td>0.917304</td>\n",
       "      <td>False</td>\n",
       "      <td>0</td>\n",
       "    </tr>\n",
       "  </tbody>\n",
       "</table>\n",
       "</div>"
      ],
      "text/plain": [
       "   customer_id demographic_slice country_reg ad_exp   est_income   hold_bal  \\\n",
       "0       713782           AX03efs           W      N  33407.90175   3.000000   \n",
       "1       515901           AX03efs           E      N  19927.53353  20.257927   \n",
       "2        95166           AX03efs           W      Y  51222.47100   4.000000   \n",
       "3       425557           AX03efs           E      Y  67211.58747  18.653631   \n",
       "4       624581           AX03efs           W      N  20093.34216   4.000000   \n",
       "\n",
       "   pref_cust_prob  imp_cscore   RiskScore  imp_crediteval  axio_score  \\\n",
       "0        0.531112         619  503.249027       23.977827    0.137289   \n",
       "1        0.297439         527  820.108146       22.986398    0.052264   \n",
       "2        0.018463         606  586.605795       24.939219    0.452035   \n",
       "3        0.089344         585  634.701982       24.841147    0.564619   \n",
       "4        0.094948         567  631.949979       24.679363    0.917304   \n",
       "\n",
       "  card_offer  country_reg_label  \n",
       "0      False                  0  \n",
       "1      False                  1  \n",
       "2      False                  0  \n",
       "3      False                  1  \n",
       "4      False                  0  "
      ]
     },
     "execution_count": 20,
     "metadata": {},
     "output_type": "execute_result"
    }
   ],
   "source": [
    "data['country_reg_label'] = credit_data['country_reg']\n",
    "cleanup_nums = {\"country_reg_label\": {\"W\" : 0, \"E\" : 1}}\n",
    "data.replace(cleanup_nums, inplace=True)\n",
    "data.head()"
   ]
  },
  {
   "cell_type": "code",
   "execution_count": 21,
   "metadata": {},
   "outputs": [
    {
     "data": {
      "text/html": [
       "<div>\n",
       "<style scoped>\n",
       "    .dataframe tbody tr th:only-of-type {\n",
       "        vertical-align: middle;\n",
       "    }\n",
       "\n",
       "    .dataframe tbody tr th {\n",
       "        vertical-align: top;\n",
       "    }\n",
       "\n",
       "    .dataframe thead th {\n",
       "        text-align: right;\n",
       "    }\n",
       "</style>\n",
       "<table border=\"1\" class=\"dataframe\">\n",
       "  <thead>\n",
       "    <tr style=\"text-align: right;\">\n",
       "      <th></th>\n",
       "      <th>customer_id</th>\n",
       "      <th>demographic_slice</th>\n",
       "      <th>country_reg</th>\n",
       "      <th>ad_exp</th>\n",
       "      <th>est_income</th>\n",
       "      <th>hold_bal</th>\n",
       "      <th>pref_cust_prob</th>\n",
       "      <th>imp_cscore</th>\n",
       "      <th>RiskScore</th>\n",
       "      <th>imp_crediteval</th>\n",
       "      <th>axio_score</th>\n",
       "      <th>card_offer</th>\n",
       "      <th>country_reg_label</th>\n",
       "      <th>ad_exp_label</th>\n",
       "    </tr>\n",
       "  </thead>\n",
       "  <tbody>\n",
       "    <tr>\n",
       "      <td>0</td>\n",
       "      <td>713782</td>\n",
       "      <td>AX03efs</td>\n",
       "      <td>W</td>\n",
       "      <td>N</td>\n",
       "      <td>33407.90175</td>\n",
       "      <td>3.000000</td>\n",
       "      <td>0.531112</td>\n",
       "      <td>619</td>\n",
       "      <td>503.249027</td>\n",
       "      <td>23.977827</td>\n",
       "      <td>0.137289</td>\n",
       "      <td>False</td>\n",
       "      <td>0</td>\n",
       "      <td>0</td>\n",
       "    </tr>\n",
       "    <tr>\n",
       "      <td>1</td>\n",
       "      <td>515901</td>\n",
       "      <td>AX03efs</td>\n",
       "      <td>E</td>\n",
       "      <td>N</td>\n",
       "      <td>19927.53353</td>\n",
       "      <td>20.257927</td>\n",
       "      <td>0.297439</td>\n",
       "      <td>527</td>\n",
       "      <td>820.108146</td>\n",
       "      <td>22.986398</td>\n",
       "      <td>0.052264</td>\n",
       "      <td>False</td>\n",
       "      <td>1</td>\n",
       "      <td>0</td>\n",
       "    </tr>\n",
       "    <tr>\n",
       "      <td>2</td>\n",
       "      <td>95166</td>\n",
       "      <td>AX03efs</td>\n",
       "      <td>W</td>\n",
       "      <td>Y</td>\n",
       "      <td>51222.47100</td>\n",
       "      <td>4.000000</td>\n",
       "      <td>0.018463</td>\n",
       "      <td>606</td>\n",
       "      <td>586.605795</td>\n",
       "      <td>24.939219</td>\n",
       "      <td>0.452035</td>\n",
       "      <td>False</td>\n",
       "      <td>0</td>\n",
       "      <td>1</td>\n",
       "    </tr>\n",
       "    <tr>\n",
       "      <td>3</td>\n",
       "      <td>425557</td>\n",
       "      <td>AX03efs</td>\n",
       "      <td>E</td>\n",
       "      <td>Y</td>\n",
       "      <td>67211.58747</td>\n",
       "      <td>18.653631</td>\n",
       "      <td>0.089344</td>\n",
       "      <td>585</td>\n",
       "      <td>634.701982</td>\n",
       "      <td>24.841147</td>\n",
       "      <td>0.564619</td>\n",
       "      <td>False</td>\n",
       "      <td>1</td>\n",
       "      <td>1</td>\n",
       "    </tr>\n",
       "    <tr>\n",
       "      <td>4</td>\n",
       "      <td>624581</td>\n",
       "      <td>AX03efs</td>\n",
       "      <td>W</td>\n",
       "      <td>N</td>\n",
       "      <td>20093.34216</td>\n",
       "      <td>4.000000</td>\n",
       "      <td>0.094948</td>\n",
       "      <td>567</td>\n",
       "      <td>631.949979</td>\n",
       "      <td>24.679363</td>\n",
       "      <td>0.917304</td>\n",
       "      <td>False</td>\n",
       "      <td>0</td>\n",
       "      <td>0</td>\n",
       "    </tr>\n",
       "  </tbody>\n",
       "</table>\n",
       "</div>"
      ],
      "text/plain": [
       "   customer_id demographic_slice country_reg ad_exp   est_income   hold_bal  \\\n",
       "0       713782           AX03efs           W      N  33407.90175   3.000000   \n",
       "1       515901           AX03efs           E      N  19927.53353  20.257927   \n",
       "2        95166           AX03efs           W      Y  51222.47100   4.000000   \n",
       "3       425557           AX03efs           E      Y  67211.58747  18.653631   \n",
       "4       624581           AX03efs           W      N  20093.34216   4.000000   \n",
       "\n",
       "   pref_cust_prob  imp_cscore   RiskScore  imp_crediteval  axio_score  \\\n",
       "0        0.531112         619  503.249027       23.977827    0.137289   \n",
       "1        0.297439         527  820.108146       22.986398    0.052264   \n",
       "2        0.018463         606  586.605795       24.939219    0.452035   \n",
       "3        0.089344         585  634.701982       24.841147    0.564619   \n",
       "4        0.094948         567  631.949979       24.679363    0.917304   \n",
       "\n",
       "  card_offer  country_reg_label  ad_exp_label  \n",
       "0      False                  0             0  \n",
       "1      False                  1             0  \n",
       "2      False                  0             1  \n",
       "3      False                  1             1  \n",
       "4      False                  0             0  "
      ]
     },
     "execution_count": 21,
     "metadata": {},
     "output_type": "execute_result"
    }
   ],
   "source": [
    "data['ad_exp_label'] = credit_data['ad_exp']\n",
    "cleanup_nums = {\"ad_exp_label\": {\"N\" : 0, \"Y\" : 1}}\n",
    "data.replace(cleanup_nums, inplace=True)\n",
    "data.head()"
   ]
  },
  {
   "cell_type": "code",
   "execution_count": 22,
   "metadata": {},
   "outputs": [
    {
     "data": {
      "text/html": [
       "<div>\n",
       "<style scoped>\n",
       "    .dataframe tbody tr th:only-of-type {\n",
       "        vertical-align: middle;\n",
       "    }\n",
       "\n",
       "    .dataframe tbody tr th {\n",
       "        vertical-align: top;\n",
       "    }\n",
       "\n",
       "    .dataframe thead th {\n",
       "        text-align: right;\n",
       "    }\n",
       "</style>\n",
       "<table border=\"1\" class=\"dataframe\">\n",
       "  <thead>\n",
       "    <tr style=\"text-align: right;\">\n",
       "      <th></th>\n",
       "      <th>customer_id</th>\n",
       "      <th>demographic_slice</th>\n",
       "      <th>country_reg</th>\n",
       "      <th>ad_exp</th>\n",
       "      <th>est_income</th>\n",
       "      <th>hold_bal</th>\n",
       "      <th>pref_cust_prob</th>\n",
       "      <th>imp_cscore</th>\n",
       "      <th>RiskScore</th>\n",
       "      <th>imp_crediteval</th>\n",
       "      <th>axio_score</th>\n",
       "      <th>card_offer</th>\n",
       "      <th>country_reg_label</th>\n",
       "      <th>ad_exp_label</th>\n",
       "    </tr>\n",
       "  </thead>\n",
       "  <tbody>\n",
       "    <tr>\n",
       "      <td>0</td>\n",
       "      <td>713782</td>\n",
       "      <td>AX03efs</td>\n",
       "      <td>W</td>\n",
       "      <td>N</td>\n",
       "      <td>33407.90175</td>\n",
       "      <td>3.000000</td>\n",
       "      <td>0.531112</td>\n",
       "      <td>619</td>\n",
       "      <td>503.249027</td>\n",
       "      <td>23.977827</td>\n",
       "      <td>0.137289</td>\n",
       "      <td>False</td>\n",
       "      <td>0</td>\n",
       "      <td>0</td>\n",
       "    </tr>\n",
       "    <tr>\n",
       "      <td>1</td>\n",
       "      <td>515901</td>\n",
       "      <td>AX03efs</td>\n",
       "      <td>E</td>\n",
       "      <td>N</td>\n",
       "      <td>19927.53353</td>\n",
       "      <td>20.257927</td>\n",
       "      <td>0.297439</td>\n",
       "      <td>527</td>\n",
       "      <td>820.108146</td>\n",
       "      <td>22.986398</td>\n",
       "      <td>0.052264</td>\n",
       "      <td>False</td>\n",
       "      <td>1</td>\n",
       "      <td>0</td>\n",
       "    </tr>\n",
       "    <tr>\n",
       "      <td>2</td>\n",
       "      <td>95166</td>\n",
       "      <td>AX03efs</td>\n",
       "      <td>W</td>\n",
       "      <td>Y</td>\n",
       "      <td>51222.47100</td>\n",
       "      <td>4.000000</td>\n",
       "      <td>0.018463</td>\n",
       "      <td>606</td>\n",
       "      <td>586.605795</td>\n",
       "      <td>24.939219</td>\n",
       "      <td>0.452035</td>\n",
       "      <td>False</td>\n",
       "      <td>0</td>\n",
       "      <td>1</td>\n",
       "    </tr>\n",
       "    <tr>\n",
       "      <td>3</td>\n",
       "      <td>425557</td>\n",
       "      <td>AX03efs</td>\n",
       "      <td>E</td>\n",
       "      <td>Y</td>\n",
       "      <td>67211.58747</td>\n",
       "      <td>18.653631</td>\n",
       "      <td>0.089344</td>\n",
       "      <td>585</td>\n",
       "      <td>634.701982</td>\n",
       "      <td>24.841147</td>\n",
       "      <td>0.564619</td>\n",
       "      <td>False</td>\n",
       "      <td>1</td>\n",
       "      <td>1</td>\n",
       "    </tr>\n",
       "    <tr>\n",
       "      <td>4</td>\n",
       "      <td>624581</td>\n",
       "      <td>AX03efs</td>\n",
       "      <td>W</td>\n",
       "      <td>N</td>\n",
       "      <td>20093.34216</td>\n",
       "      <td>4.000000</td>\n",
       "      <td>0.094948</td>\n",
       "      <td>567</td>\n",
       "      <td>631.949979</td>\n",
       "      <td>24.679363</td>\n",
       "      <td>0.917304</td>\n",
       "      <td>False</td>\n",
       "      <td>0</td>\n",
       "      <td>0</td>\n",
       "    </tr>\n",
       "  </tbody>\n",
       "</table>\n",
       "</div>"
      ],
      "text/plain": [
       "   customer_id demographic_slice country_reg ad_exp   est_income   hold_bal  \\\n",
       "0       713782           AX03efs           W      N  33407.90175   3.000000   \n",
       "1       515901           AX03efs           E      N  19927.53353  20.257927   \n",
       "2        95166           AX03efs           W      Y  51222.47100   4.000000   \n",
       "3       425557           AX03efs           E      Y  67211.58747  18.653631   \n",
       "4       624581           AX03efs           W      N  20093.34216   4.000000   \n",
       "\n",
       "   pref_cust_prob  imp_cscore   RiskScore  imp_crediteval  axio_score  \\\n",
       "0        0.531112         619  503.249027       23.977827    0.137289   \n",
       "1        0.297439         527  820.108146       22.986398    0.052264   \n",
       "2        0.018463         606  586.605795       24.939219    0.452035   \n",
       "3        0.089344         585  634.701982       24.841147    0.564619   \n",
       "4        0.094948         567  631.949979       24.679363    0.917304   \n",
       "\n",
       "  card_offer  country_reg_label  ad_exp_label  \n",
       "0      False                  0             0  \n",
       "1      False                  1             0  \n",
       "2      False                  0             1  \n",
       "3      False                  1             1  \n",
       "4      False                  0             0  "
      ]
     },
     "execution_count": 22,
     "metadata": {},
     "output_type": "execute_result"
    }
   ],
   "source": [
    "data.head()"
   ]
  },
  {
   "cell_type": "code",
   "execution_count": 23,
   "metadata": {},
   "outputs": [],
   "source": [
    "data['card_offer_label'] = credit_data['card_offer']"
   ]
  },
  {
   "cell_type": "code",
   "execution_count": 24,
   "metadata": {},
   "outputs": [],
   "source": [
    "data['card_offer_label'] = (data['card_offer_label'] == True).astype(int)"
   ]
  },
  {
   "cell_type": "code",
   "execution_count": 25,
   "metadata": {},
   "outputs": [
    {
     "data": {
      "text/html": [
       "<div>\n",
       "<style scoped>\n",
       "    .dataframe tbody tr th:only-of-type {\n",
       "        vertical-align: middle;\n",
       "    }\n",
       "\n",
       "    .dataframe tbody tr th {\n",
       "        vertical-align: top;\n",
       "    }\n",
       "\n",
       "    .dataframe thead th {\n",
       "        text-align: right;\n",
       "    }\n",
       "</style>\n",
       "<table border=\"1\" class=\"dataframe\">\n",
       "  <thead>\n",
       "    <tr style=\"text-align: right;\">\n",
       "      <th></th>\n",
       "      <th>customer_id</th>\n",
       "      <th>demographic_slice</th>\n",
       "      <th>country_reg</th>\n",
       "      <th>ad_exp</th>\n",
       "      <th>est_income</th>\n",
       "      <th>hold_bal</th>\n",
       "      <th>pref_cust_prob</th>\n",
       "      <th>imp_cscore</th>\n",
       "      <th>RiskScore</th>\n",
       "      <th>imp_crediteval</th>\n",
       "      <th>axio_score</th>\n",
       "      <th>card_offer</th>\n",
       "      <th>country_reg_label</th>\n",
       "      <th>ad_exp_label</th>\n",
       "      <th>card_offer_label</th>\n",
       "    </tr>\n",
       "  </thead>\n",
       "  <tbody>\n",
       "    <tr>\n",
       "      <td>0</td>\n",
       "      <td>713782</td>\n",
       "      <td>AX03efs</td>\n",
       "      <td>W</td>\n",
       "      <td>N</td>\n",
       "      <td>33407.90175</td>\n",
       "      <td>3.000000</td>\n",
       "      <td>0.531112</td>\n",
       "      <td>619</td>\n",
       "      <td>503.249027</td>\n",
       "      <td>23.977827</td>\n",
       "      <td>0.137289</td>\n",
       "      <td>False</td>\n",
       "      <td>0</td>\n",
       "      <td>0</td>\n",
       "      <td>0</td>\n",
       "    </tr>\n",
       "    <tr>\n",
       "      <td>1</td>\n",
       "      <td>515901</td>\n",
       "      <td>AX03efs</td>\n",
       "      <td>E</td>\n",
       "      <td>N</td>\n",
       "      <td>19927.53353</td>\n",
       "      <td>20.257927</td>\n",
       "      <td>0.297439</td>\n",
       "      <td>527</td>\n",
       "      <td>820.108146</td>\n",
       "      <td>22.986398</td>\n",
       "      <td>0.052264</td>\n",
       "      <td>False</td>\n",
       "      <td>1</td>\n",
       "      <td>0</td>\n",
       "      <td>0</td>\n",
       "    </tr>\n",
       "    <tr>\n",
       "      <td>2</td>\n",
       "      <td>95166</td>\n",
       "      <td>AX03efs</td>\n",
       "      <td>W</td>\n",
       "      <td>Y</td>\n",
       "      <td>51222.47100</td>\n",
       "      <td>4.000000</td>\n",
       "      <td>0.018463</td>\n",
       "      <td>606</td>\n",
       "      <td>586.605795</td>\n",
       "      <td>24.939219</td>\n",
       "      <td>0.452035</td>\n",
       "      <td>False</td>\n",
       "      <td>0</td>\n",
       "      <td>1</td>\n",
       "      <td>0</td>\n",
       "    </tr>\n",
       "    <tr>\n",
       "      <td>3</td>\n",
       "      <td>425557</td>\n",
       "      <td>AX03efs</td>\n",
       "      <td>E</td>\n",
       "      <td>Y</td>\n",
       "      <td>67211.58747</td>\n",
       "      <td>18.653631</td>\n",
       "      <td>0.089344</td>\n",
       "      <td>585</td>\n",
       "      <td>634.701982</td>\n",
       "      <td>24.841147</td>\n",
       "      <td>0.564619</td>\n",
       "      <td>False</td>\n",
       "      <td>1</td>\n",
       "      <td>1</td>\n",
       "      <td>0</td>\n",
       "    </tr>\n",
       "    <tr>\n",
       "      <td>4</td>\n",
       "      <td>624581</td>\n",
       "      <td>AX03efs</td>\n",
       "      <td>W</td>\n",
       "      <td>N</td>\n",
       "      <td>20093.34216</td>\n",
       "      <td>4.000000</td>\n",
       "      <td>0.094948</td>\n",
       "      <td>567</td>\n",
       "      <td>631.949979</td>\n",
       "      <td>24.679363</td>\n",
       "      <td>0.917304</td>\n",
       "      <td>False</td>\n",
       "      <td>0</td>\n",
       "      <td>0</td>\n",
       "      <td>0</td>\n",
       "    </tr>\n",
       "  </tbody>\n",
       "</table>\n",
       "</div>"
      ],
      "text/plain": [
       "   customer_id demographic_slice country_reg ad_exp   est_income   hold_bal  \\\n",
       "0       713782           AX03efs           W      N  33407.90175   3.000000   \n",
       "1       515901           AX03efs           E      N  19927.53353  20.257927   \n",
       "2        95166           AX03efs           W      Y  51222.47100   4.000000   \n",
       "3       425557           AX03efs           E      Y  67211.58747  18.653631   \n",
       "4       624581           AX03efs           W      N  20093.34216   4.000000   \n",
       "\n",
       "   pref_cust_prob  imp_cscore   RiskScore  imp_crediteval  axio_score  \\\n",
       "0        0.531112         619  503.249027       23.977827    0.137289   \n",
       "1        0.297439         527  820.108146       22.986398    0.052264   \n",
       "2        0.018463         606  586.605795       24.939219    0.452035   \n",
       "3        0.089344         585  634.701982       24.841147    0.564619   \n",
       "4        0.094948         567  631.949979       24.679363    0.917304   \n",
       "\n",
       "  card_offer  country_reg_label  ad_exp_label  card_offer_label  \n",
       "0      False                  0             0                 0  \n",
       "1      False                  1             0                 0  \n",
       "2      False                  0             1                 0  \n",
       "3      False                  1             1                 0  \n",
       "4      False                  0             0                 0  "
      ]
     },
     "execution_count": 25,
     "metadata": {},
     "output_type": "execute_result"
    }
   ],
   "source": [
    "data.head()"
   ]
  },
  {
   "cell_type": "code",
   "execution_count": 26,
   "metadata": {},
   "outputs": [
    {
     "data": {
      "text/plain": [
       "array(['AX03efs', 'BWEsk45', 'CARDIF2', 'DERS3w5'], dtype=object)"
      ]
     },
     "execution_count": 26,
     "metadata": {},
     "output_type": "execute_result"
    }
   ],
   "source": [
    "data['demographic_slice'].unique()"
   ]
  },
  {
   "cell_type": "code",
   "execution_count": 27,
   "metadata": {},
   "outputs": [
    {
     "data": {
      "text/html": [
       "<div>\n",
       "<style scoped>\n",
       "    .dataframe tbody tr th:only-of-type {\n",
       "        vertical-align: middle;\n",
       "    }\n",
       "\n",
       "    .dataframe tbody tr th {\n",
       "        vertical-align: top;\n",
       "    }\n",
       "\n",
       "    .dataframe thead th {\n",
       "        text-align: right;\n",
       "    }\n",
       "</style>\n",
       "<table border=\"1\" class=\"dataframe\">\n",
       "  <thead>\n",
       "    <tr style=\"text-align: right;\">\n",
       "      <th></th>\n",
       "      <th>customer_id</th>\n",
       "      <th>demographic_slice</th>\n",
       "      <th>country_reg</th>\n",
       "      <th>ad_exp</th>\n",
       "      <th>est_income</th>\n",
       "      <th>hold_bal</th>\n",
       "      <th>pref_cust_prob</th>\n",
       "      <th>imp_cscore</th>\n",
       "      <th>RiskScore</th>\n",
       "      <th>imp_crediteval</th>\n",
       "      <th>axio_score</th>\n",
       "      <th>card_offer</th>\n",
       "      <th>country_reg_label</th>\n",
       "      <th>ad_exp_label</th>\n",
       "      <th>card_offer_label</th>\n",
       "      <th>demographic_slice_label</th>\n",
       "    </tr>\n",
       "  </thead>\n",
       "  <tbody>\n",
       "    <tr>\n",
       "      <td>0</td>\n",
       "      <td>713782</td>\n",
       "      <td>AX03efs</td>\n",
       "      <td>W</td>\n",
       "      <td>N</td>\n",
       "      <td>33407.90175</td>\n",
       "      <td>3.000000</td>\n",
       "      <td>0.531112</td>\n",
       "      <td>619</td>\n",
       "      <td>503.249027</td>\n",
       "      <td>23.977827</td>\n",
       "      <td>0.137289</td>\n",
       "      <td>False</td>\n",
       "      <td>0</td>\n",
       "      <td>0</td>\n",
       "      <td>0</td>\n",
       "      <td>1</td>\n",
       "    </tr>\n",
       "    <tr>\n",
       "      <td>1</td>\n",
       "      <td>515901</td>\n",
       "      <td>AX03efs</td>\n",
       "      <td>E</td>\n",
       "      <td>N</td>\n",
       "      <td>19927.53353</td>\n",
       "      <td>20.257927</td>\n",
       "      <td>0.297439</td>\n",
       "      <td>527</td>\n",
       "      <td>820.108146</td>\n",
       "      <td>22.986398</td>\n",
       "      <td>0.052264</td>\n",
       "      <td>False</td>\n",
       "      <td>1</td>\n",
       "      <td>0</td>\n",
       "      <td>0</td>\n",
       "      <td>1</td>\n",
       "    </tr>\n",
       "    <tr>\n",
       "      <td>2</td>\n",
       "      <td>95166</td>\n",
       "      <td>AX03efs</td>\n",
       "      <td>W</td>\n",
       "      <td>Y</td>\n",
       "      <td>51222.47100</td>\n",
       "      <td>4.000000</td>\n",
       "      <td>0.018463</td>\n",
       "      <td>606</td>\n",
       "      <td>586.605795</td>\n",
       "      <td>24.939219</td>\n",
       "      <td>0.452035</td>\n",
       "      <td>False</td>\n",
       "      <td>0</td>\n",
       "      <td>1</td>\n",
       "      <td>0</td>\n",
       "      <td>1</td>\n",
       "    </tr>\n",
       "    <tr>\n",
       "      <td>3</td>\n",
       "      <td>425557</td>\n",
       "      <td>AX03efs</td>\n",
       "      <td>E</td>\n",
       "      <td>Y</td>\n",
       "      <td>67211.58747</td>\n",
       "      <td>18.653631</td>\n",
       "      <td>0.089344</td>\n",
       "      <td>585</td>\n",
       "      <td>634.701982</td>\n",
       "      <td>24.841147</td>\n",
       "      <td>0.564619</td>\n",
       "      <td>False</td>\n",
       "      <td>1</td>\n",
       "      <td>1</td>\n",
       "      <td>0</td>\n",
       "      <td>1</td>\n",
       "    </tr>\n",
       "    <tr>\n",
       "      <td>4</td>\n",
       "      <td>624581</td>\n",
       "      <td>AX03efs</td>\n",
       "      <td>W</td>\n",
       "      <td>N</td>\n",
       "      <td>20093.34216</td>\n",
       "      <td>4.000000</td>\n",
       "      <td>0.094948</td>\n",
       "      <td>567</td>\n",
       "      <td>631.949979</td>\n",
       "      <td>24.679363</td>\n",
       "      <td>0.917304</td>\n",
       "      <td>False</td>\n",
       "      <td>0</td>\n",
       "      <td>0</td>\n",
       "      <td>0</td>\n",
       "      <td>1</td>\n",
       "    </tr>\n",
       "  </tbody>\n",
       "</table>\n",
       "</div>"
      ],
      "text/plain": [
       "   customer_id demographic_slice country_reg ad_exp   est_income   hold_bal  \\\n",
       "0       713782           AX03efs           W      N  33407.90175   3.000000   \n",
       "1       515901           AX03efs           E      N  19927.53353  20.257927   \n",
       "2        95166           AX03efs           W      Y  51222.47100   4.000000   \n",
       "3       425557           AX03efs           E      Y  67211.58747  18.653631   \n",
       "4       624581           AX03efs           W      N  20093.34216   4.000000   \n",
       "\n",
       "   pref_cust_prob  imp_cscore   RiskScore  imp_crediteval  axio_score  \\\n",
       "0        0.531112         619  503.249027       23.977827    0.137289   \n",
       "1        0.297439         527  820.108146       22.986398    0.052264   \n",
       "2        0.018463         606  586.605795       24.939219    0.452035   \n",
       "3        0.089344         585  634.701982       24.841147    0.564619   \n",
       "4        0.094948         567  631.949979       24.679363    0.917304   \n",
       "\n",
       "  card_offer  country_reg_label  ad_exp_label  card_offer_label  \\\n",
       "0      False                  0             0                 0   \n",
       "1      False                  1             0                 0   \n",
       "2      False                  0             1                 0   \n",
       "3      False                  1             1                 0   \n",
       "4      False                  0             0                 0   \n",
       "\n",
       "   demographic_slice_label  \n",
       "0                        1  \n",
       "1                        1  \n",
       "2                        1  \n",
       "3                        1  \n",
       "4                        1  "
      ]
     },
     "execution_count": 27,
     "metadata": {},
     "output_type": "execute_result"
    }
   ],
   "source": [
    "data['demographic_slice_label'] = credit_data['demographic_slice']\n",
    "cleanup_nums = {\"demographic_slice_label\": {\"AX03efs\" : 1, \"BWEsk45\" : 2, \"CARDIF2\" : 3, \"DERS3w5\" : 4}}\n",
    "data.replace(cleanup_nums, inplace=True)\n",
    "data.head()"
   ]
  },
  {
   "cell_type": "code",
   "execution_count": 28,
   "metadata": {},
   "outputs": [],
   "source": [
    "data = data.drop(['demographic_slice', 'country_reg', 'ad_exp', 'card_offer'], axis=1)"
   ]
  },
  {
   "cell_type": "code",
   "execution_count": 29,
   "metadata": {},
   "outputs": [
    {
     "data": {
      "text/html": [
       "<div>\n",
       "<style scoped>\n",
       "    .dataframe tbody tr th:only-of-type {\n",
       "        vertical-align: middle;\n",
       "    }\n",
       "\n",
       "    .dataframe tbody tr th {\n",
       "        vertical-align: top;\n",
       "    }\n",
       "\n",
       "    .dataframe thead th {\n",
       "        text-align: right;\n",
       "    }\n",
       "</style>\n",
       "<table border=\"1\" class=\"dataframe\">\n",
       "  <thead>\n",
       "    <tr style=\"text-align: right;\">\n",
       "      <th></th>\n",
       "      <th>customer_id</th>\n",
       "      <th>est_income</th>\n",
       "      <th>hold_bal</th>\n",
       "      <th>pref_cust_prob</th>\n",
       "      <th>imp_cscore</th>\n",
       "      <th>RiskScore</th>\n",
       "      <th>imp_crediteval</th>\n",
       "      <th>axio_score</th>\n",
       "      <th>country_reg_label</th>\n",
       "      <th>ad_exp_label</th>\n",
       "      <th>card_offer_label</th>\n",
       "      <th>demographic_slice_label</th>\n",
       "    </tr>\n",
       "  </thead>\n",
       "  <tbody>\n",
       "    <tr>\n",
       "      <td>0</td>\n",
       "      <td>713782</td>\n",
       "      <td>33407.90175</td>\n",
       "      <td>3.000000</td>\n",
       "      <td>0.531112</td>\n",
       "      <td>619</td>\n",
       "      <td>503.249027</td>\n",
       "      <td>23.977827</td>\n",
       "      <td>0.137289</td>\n",
       "      <td>0</td>\n",
       "      <td>0</td>\n",
       "      <td>0</td>\n",
       "      <td>1</td>\n",
       "    </tr>\n",
       "    <tr>\n",
       "      <td>1</td>\n",
       "      <td>515901</td>\n",
       "      <td>19927.53353</td>\n",
       "      <td>20.257927</td>\n",
       "      <td>0.297439</td>\n",
       "      <td>527</td>\n",
       "      <td>820.108146</td>\n",
       "      <td>22.986398</td>\n",
       "      <td>0.052264</td>\n",
       "      <td>1</td>\n",
       "      <td>0</td>\n",
       "      <td>0</td>\n",
       "      <td>1</td>\n",
       "    </tr>\n",
       "    <tr>\n",
       "      <td>2</td>\n",
       "      <td>95166</td>\n",
       "      <td>51222.47100</td>\n",
       "      <td>4.000000</td>\n",
       "      <td>0.018463</td>\n",
       "      <td>606</td>\n",
       "      <td>586.605795</td>\n",
       "      <td>24.939219</td>\n",
       "      <td>0.452035</td>\n",
       "      <td>0</td>\n",
       "      <td>1</td>\n",
       "      <td>0</td>\n",
       "      <td>1</td>\n",
       "    </tr>\n",
       "    <tr>\n",
       "      <td>3</td>\n",
       "      <td>425557</td>\n",
       "      <td>67211.58747</td>\n",
       "      <td>18.653631</td>\n",
       "      <td>0.089344</td>\n",
       "      <td>585</td>\n",
       "      <td>634.701982</td>\n",
       "      <td>24.841147</td>\n",
       "      <td>0.564619</td>\n",
       "      <td>1</td>\n",
       "      <td>1</td>\n",
       "      <td>0</td>\n",
       "      <td>1</td>\n",
       "    </tr>\n",
       "    <tr>\n",
       "      <td>4</td>\n",
       "      <td>624581</td>\n",
       "      <td>20093.34216</td>\n",
       "      <td>4.000000</td>\n",
       "      <td>0.094948</td>\n",
       "      <td>567</td>\n",
       "      <td>631.949979</td>\n",
       "      <td>24.679363</td>\n",
       "      <td>0.917304</td>\n",
       "      <td>0</td>\n",
       "      <td>0</td>\n",
       "      <td>0</td>\n",
       "      <td>1</td>\n",
       "    </tr>\n",
       "  </tbody>\n",
       "</table>\n",
       "</div>"
      ],
      "text/plain": [
       "   customer_id   est_income   hold_bal  pref_cust_prob  imp_cscore  \\\n",
       "0       713782  33407.90175   3.000000        0.531112         619   \n",
       "1       515901  19927.53353  20.257927        0.297439         527   \n",
       "2        95166  51222.47100   4.000000        0.018463         606   \n",
       "3       425557  67211.58747  18.653631        0.089344         585   \n",
       "4       624581  20093.34216   4.000000        0.094948         567   \n",
       "\n",
       "    RiskScore  imp_crediteval  axio_score  country_reg_label  ad_exp_label  \\\n",
       "0  503.249027       23.977827    0.137289                  0             0   \n",
       "1  820.108146       22.986398    0.052264                  1             0   \n",
       "2  586.605795       24.939219    0.452035                  0             1   \n",
       "3  634.701982       24.841147    0.564619                  1             1   \n",
       "4  631.949979       24.679363    0.917304                  0             0   \n",
       "\n",
       "   card_offer_label  demographic_slice_label  \n",
       "0                 0                        1  \n",
       "1                 0                        1  \n",
       "2                 0                        1  \n",
       "3                 0                        1  \n",
       "4                 0                        1  "
      ]
     },
     "execution_count": 29,
     "metadata": {},
     "output_type": "execute_result"
    }
   ],
   "source": [
    "data.head()"
   ]
  },
  {
   "cell_type": "markdown",
   "metadata": {},
   "source": [
    "# Extracting features and targets"
   ]
  },
  {
   "cell_type": "code",
   "execution_count": 30,
   "metadata": {},
   "outputs": [],
   "source": [
    "X = data.drop('card_offer_label', axis=1)\n",
    "y = data['card_offer_label']\n",
    "y1 = to_categorical(y)"
   ]
  },
  {
   "cell_type": "code",
   "execution_count": 31,
   "metadata": {},
   "outputs": [
    {
     "data": {
      "text/plain": [
       "0.9999999999999999"
      ]
     },
     "execution_count": 31,
     "metadata": {},
     "output_type": "execute_result"
    }
   ],
   "source": [
    "np.linalg.norm(keras.utils.normalize([[1,2,3],[2,3,4]],axis=0)[:,0])"
   ]
  },
  {
   "cell_type": "code",
   "execution_count": 32,
   "metadata": {},
   "outputs": [],
   "source": [
    "X_train, X_test, y_train, y_test = train_test_split(X, y1)"
   ]
  },
  {
   "cell_type": "markdown",
   "metadata": {},
   "source": [
    "# Creating Models"
   ]
  },
  {
   "cell_type": "markdown",
   "metadata": {},
   "source": [
    "## Loss - Categorical Crossentropy and Optimizer - Adam"
   ]
  },
  {
   "cell_type": "code",
   "execution_count": 33,
   "metadata": {},
   "outputs": [
    {
     "name": "stdout",
     "output_type": "stream",
     "text": [
      "Model: \"sequential_1\"\n",
      "_________________________________________________________________\n",
      "Layer (type)                 Output Shape              Param #   \n",
      "=================================================================\n",
      "dense_1 (Dense)              (None, 128)               1536      \n",
      "_________________________________________________________________\n",
      "dense_2 (Dense)              (None, 32)                4128      \n",
      "_________________________________________________________________\n",
      "dense_3 (Dense)              (None, 2)                 66        \n",
      "_________________________________________________________________\n",
      "dense_4 (Dense)              (None, 2)                 6         \n",
      "=================================================================\n",
      "Total params: 5,736\n",
      "Trainable params: 5,736\n",
      "Non-trainable params: 0\n",
      "_________________________________________________________________\n"
     ]
    },
    {
     "name": "stderr",
     "output_type": "stream",
     "text": [
      "c:\\users\\rahul\\appdata\\local\\programs\\python\\python37\\lib\\site-packages\\ipykernel_launcher.py:2: UserWarning: Update your `Dense` call to the Keras 2 API: `Dense(activation=\"relu\", input_dim=11, units=128, kernel_initializer=\"uniform\")`\n",
      "  \n",
      "c:\\users\\rahul\\appdata\\local\\programs\\python\\python37\\lib\\site-packages\\ipykernel_launcher.py:3: UserWarning: Update your `Dense` call to the Keras 2 API: `Dense(activation=\"relu\", units=32, kernel_initializer=\"uniform\")`\n",
      "  This is separate from the ipykernel package so we can avoid doing imports until\n",
      "c:\\users\\rahul\\appdata\\local\\programs\\python\\python37\\lib\\site-packages\\ipykernel_launcher.py:4: UserWarning: Update your `Dense` call to the Keras 2 API: `Dense(activation=\"softmax\", input_dim=30, units=2)`\n",
      "  after removing the cwd from sys.path.\n"
     ]
    }
   ],
   "source": [
    "model = models.Sequential()\n",
    "model.add(layers.Dense(output_dim=128, init='uniform', activation='relu', input_dim=11))\n",
    "model.add(layers.Dense(output_dim=32, init='uniform', activation='relu'))\n",
    "model.add(layers.Dense(output_dim=2, activation='softmax', input_dim=30))\n",
    "model.add(layers.Dense(2, input_dim = 11, activation = 'sigmoid'))\n",
    "model.summary()"
   ]
  },
  {
   "cell_type": "code",
   "execution_count": 34,
   "metadata": {},
   "outputs": [],
   "source": [
    "model.compile(optimizer='adam', loss='categorical_crossentropy', metrics=['accuracy'])"
   ]
  },
  {
   "cell_type": "code",
   "execution_count": 35,
   "metadata": {},
   "outputs": [
    {
     "name": "stdout",
     "output_type": "stream",
     "text": [
      "WARNING:tensorflow:From c:\\users\\rahul\\appdata\\local\\programs\\python\\python37\\lib\\site-packages\\tensorflow\\python\\ops\\math_grad.py:1250: add_dispatch_support.<locals>.wrapper (from tensorflow.python.ops.array_ops) is deprecated and will be removed in a future version.\n",
      "Instructions for updating:\n",
      "Use tf.where in 2.0, which has the same broadcast rule as np.where\n",
      "WARNING:tensorflow:From c:\\users\\rahul\\appdata\\local\\programs\\python\\python37\\lib\\site-packages\\keras\\backend\\tensorflow_backend.py:422: The name tf.global_variables is deprecated. Please use tf.compat.v1.global_variables instead.\n",
      "\n",
      "WARNING:tensorflow:From c:\\users\\rahul\\appdata\\local\\programs\\python\\python37\\lib\\site-packages\\keras\\backend\\tensorflow_backend.py:431: The name tf.is_variable_initialized is deprecated. Please use tf.compat.v1.is_variable_initialized instead.\n",
      "\n",
      "WARNING:tensorflow:From c:\\users\\rahul\\appdata\\local\\programs\\python\\python37\\lib\\site-packages\\keras\\backend\\tensorflow_backend.py:438: The name tf.variables_initializer is deprecated. Please use tf.compat.v1.variables_initializer instead.\n",
      "\n",
      "Epoch 1/10\n",
      "15000/15000 [==============================] - 1s 56us/step - loss: 0.3395 - accuracy: 0.9243\n",
      "Epoch 2/10\n",
      "15000/15000 [==============================] - 0s 29us/step - loss: 0.2821 - accuracy: 0.9243\n",
      "Epoch 3/10\n",
      "15000/15000 [==============================] - 0s 29us/step - loss: 0.2706 - accuracy: 0.9243\n",
      "Epoch 4/10\n",
      "15000/15000 [==============================] - 1s 36us/step - loss: 0.2686 - accuracy: 0.9243\n",
      "Epoch 5/10\n",
      "15000/15000 [==============================] - 1s 35us/step - loss: 0.2683 - accuracy: 0.9243\n",
      "Epoch 6/10\n",
      "15000/15000 [==============================] - 1s 37us/step - loss: 0.2683 - accuracy: 0.9243\n",
      "Epoch 7/10\n",
      "15000/15000 [==============================] - 1s 34us/step - loss: 0.2683 - accuracy: 0.9243\n",
      "Epoch 8/10\n",
      "15000/15000 [==============================] - 1s 35us/step - loss: 0.2683 - accuracy: 0.9243\n",
      "Epoch 9/10\n",
      "15000/15000 [==============================] - 1s 36us/step - loss: 0.2683 - accuracy: 0.9243\n",
      "Epoch 10/10\n",
      "15000/15000 [==============================] - 1s 38us/step - loss: 0.2683 - accuracy: 0.9243\n"
     ]
    },
    {
     "data": {
      "text/plain": [
       "<keras.callbacks.callbacks.History at 0x1f63a72fd88>"
      ]
     },
     "execution_count": 35,
     "metadata": {},
     "output_type": "execute_result"
    }
   ],
   "source": [
    "model.fit(X_train, y_train, epochs=10)"
   ]
  },
  {
   "cell_type": "code",
   "execution_count": 36,
   "metadata": {},
   "outputs": [
    {
     "name": "stdout",
     "output_type": "stream",
     "text": [
      "5000/5000 [==============================] - 0s 22us/step\n",
      "92.10000038146973\n"
     ]
    }
   ],
   "source": [
    "test = model.evaluate(X_test, y_test)\n",
    "print(test[1]*100)"
   ]
  },
  {
   "cell_type": "markdown",
   "metadata": {},
   "source": [
    "## Adding Gaussian Noise from here"
   ]
  },
  {
   "cell_type": "code",
   "execution_count": 37,
   "metadata": {},
   "outputs": [
    {
     "name": "stdout",
     "output_type": "stream",
     "text": [
      "Model: \"sequential_2\"\n",
      "_________________________________________________________________\n",
      "Layer (type)                 Output Shape              Param #   \n",
      "=================================================================\n",
      "dense_5 (Dense)              (None, 128)               1536      \n",
      "_________________________________________________________________\n",
      "dense_6 (Dense)              (None, 32)                4128      \n",
      "_________________________________________________________________\n",
      "gaussian_noise_1 (GaussianNo (None, 32)                0         \n",
      "_________________________________________________________________\n",
      "dense_7 (Dense)              (None, 2)                 66        \n",
      "_________________________________________________________________\n",
      "dense_8 (Dense)              (None, 2)                 6         \n",
      "=================================================================\n",
      "Total params: 5,736\n",
      "Trainable params: 5,736\n",
      "Non-trainable params: 0\n",
      "_________________________________________________________________\n"
     ]
    },
    {
     "name": "stderr",
     "output_type": "stream",
     "text": [
      "c:\\users\\rahul\\appdata\\local\\programs\\python\\python37\\lib\\site-packages\\ipykernel_launcher.py:2: UserWarning: Update your `Dense` call to the Keras 2 API: `Dense(activation=\"relu\", input_dim=11, units=128, kernel_initializer=\"uniform\")`\n",
      "  \n",
      "c:\\users\\rahul\\appdata\\local\\programs\\python\\python37\\lib\\site-packages\\ipykernel_launcher.py:3: UserWarning: Update your `Dense` call to the Keras 2 API: `Dense(activation=\"relu\", units=32, kernel_initializer=\"uniform\")`\n",
      "  This is separate from the ipykernel package so we can avoid doing imports until\n",
      "c:\\users\\rahul\\appdata\\local\\programs\\python\\python37\\lib\\site-packages\\ipykernel_launcher.py:5: UserWarning: Update your `Dense` call to the Keras 2 API: `Dense(activation=\"softmax\", units=2)`\n",
      "  \"\"\"\n",
      "c:\\users\\rahul\\appdata\\local\\programs\\python\\python37\\lib\\site-packages\\ipykernel_launcher.py:6: UserWarning: Update your `Dense` call to the Keras 2 API: `Dense(activation=\"sigmoid\", units=2)`\n",
      "  \n"
     ]
    }
   ],
   "source": [
    "model = models.Sequential()\n",
    "model.add(layers.Dense(output_dim=128, init='uniform', activation='relu', input_dim=11))\n",
    "model.add(layers.Dense(output_dim=32, init='uniform', activation='relu'))\n",
    "model.add(GaussianNoise(0.1))\n",
    "model.add(layers.Dense(output_dim=2, activation='softmax'))\n",
    "model.add(layers.Dense(output_dim=2, activation = 'sigmoid'))\n",
    "model.summary()"
   ]
  },
  {
   "cell_type": "code",
   "execution_count": 38,
   "metadata": {},
   "outputs": [],
   "source": [
    "model.compile(optimizer='adam', loss='categorical_crossentropy', metrics=['accuracy'])"
   ]
  },
  {
   "cell_type": "code",
   "execution_count": 39,
   "metadata": {},
   "outputs": [
    {
     "name": "stdout",
     "output_type": "stream",
     "text": [
      "Epoch 1/10\n",
      "15000/15000 [==============================] - 1s 47us/step - loss: 0.6377 - accuracy: 0.7289\n",
      "Epoch 2/10\n",
      "15000/15000 [==============================] - 1s 39us/step - loss: 0.4516 - accuracy: 0.9243\n",
      "Epoch 3/10\n",
      "15000/15000 [==============================] - 1s 35us/step - loss: 0.3354 - accuracy: 0.9243\n",
      "Epoch 4/10\n",
      "15000/15000 [==============================] - 1s 34us/step - loss: 0.2886 - accuracy: 0.9243\n",
      "Epoch 5/10\n",
      "15000/15000 [==============================] - 1s 34us/step - loss: 0.2737 - accuracy: 0.9243\n",
      "Epoch 6/10\n",
      "15000/15000 [==============================] - 0s 33us/step - loss: 0.2694 - accuracy: 0.9243\n",
      "Epoch 7/10\n",
      "15000/15000 [==============================] - 0s 33us/step - loss: 0.2685 - accuracy: 0.9243\n",
      "Epoch 8/10\n",
      "15000/15000 [==============================] - 0s 32us/step - loss: 0.2683 - accuracy: 0.9243\n",
      "Epoch 9/10\n",
      "15000/15000 [==============================] - 0s 32us/step - loss: 0.2683 - accuracy: 0.9243\n",
      "Epoch 10/10\n",
      "15000/15000 [==============================] - 0s 32us/step - loss: 0.2683 - accuracy: 0.9243\n"
     ]
    },
    {
     "data": {
      "text/plain": [
       "<keras.callbacks.callbacks.History at 0x1f63bc7ce48>"
      ]
     },
     "execution_count": 39,
     "metadata": {},
     "output_type": "execute_result"
    }
   ],
   "source": [
    "model.fit(X_train, y_train, epochs=10)"
   ]
  },
  {
   "cell_type": "code",
   "execution_count": 40,
   "metadata": {},
   "outputs": [
    {
     "name": "stdout",
     "output_type": "stream",
     "text": [
      "5000/5000 [==============================] - 0s 21us/step\n",
      "92.10000038146973\n"
     ]
    }
   ],
   "source": [
    "test = model.evaluate(X_test, y_test)\n",
    "print(test[1]*100)"
   ]
  },
  {
   "cell_type": "markdown",
   "metadata": {},
   "source": [
    "## Loss - Binary Crossentropy and Optimizer - Adam"
   ]
  },
  {
   "cell_type": "code",
   "execution_count": 41,
   "metadata": {},
   "outputs": [
    {
     "name": "stdout",
     "output_type": "stream",
     "text": [
      "Model: \"sequential_3\"\n",
      "_________________________________________________________________\n",
      "Layer (type)                 Output Shape              Param #   \n",
      "=================================================================\n",
      "dense_9 (Dense)              (None, 128)               1536      \n",
      "_________________________________________________________________\n",
      "dense_10 (Dense)             (None, 32)                4128      \n",
      "_________________________________________________________________\n",
      "gaussian_noise_2 (GaussianNo (None, 32)                0         \n",
      "_________________________________________________________________\n",
      "dense_11 (Dense)             (None, 2)                 66        \n",
      "_________________________________________________________________\n",
      "dense_12 (Dense)             (None, 2)                 6         \n",
      "=================================================================\n",
      "Total params: 5,736\n",
      "Trainable params: 5,736\n",
      "Non-trainable params: 0\n",
      "_________________________________________________________________\n"
     ]
    },
    {
     "name": "stderr",
     "output_type": "stream",
     "text": [
      "c:\\users\\rahul\\appdata\\local\\programs\\python\\python37\\lib\\site-packages\\ipykernel_launcher.py:2: UserWarning: Update your `Dense` call to the Keras 2 API: `Dense(activation=\"relu\", input_dim=11, units=128, kernel_initializer=\"uniform\")`\n",
      "  \n",
      "c:\\users\\rahul\\appdata\\local\\programs\\python\\python37\\lib\\site-packages\\ipykernel_launcher.py:3: UserWarning: Update your `Dense` call to the Keras 2 API: `Dense(activation=\"relu\", units=32, kernel_initializer=\"uniform\")`\n",
      "  This is separate from the ipykernel package so we can avoid doing imports until\n",
      "c:\\users\\rahul\\appdata\\local\\programs\\python\\python37\\lib\\site-packages\\ipykernel_launcher.py:5: UserWarning: Update your `Dense` call to the Keras 2 API: `Dense(activation=\"softmax\", units=2)`\n",
      "  \"\"\"\n",
      "c:\\users\\rahul\\appdata\\local\\programs\\python\\python37\\lib\\site-packages\\ipykernel_launcher.py:6: UserWarning: Update your `Dense` call to the Keras 2 API: `Dense(activation=\"sigmoid\", units=2)`\n",
      "  \n"
     ]
    }
   ],
   "source": [
    "model = models.Sequential()\n",
    "model.add(layers.Dense(output_dim=128, init='uniform', activation='relu', input_dim=11))\n",
    "model.add(layers.Dense(output_dim=32, init='uniform', activation='relu'))\n",
    "model.add(GaussianNoise(0.5))\n",
    "model.add(layers.Dense(output_dim=2, activation='softmax'))\n",
    "model.add(layers.Dense(output_dim=2, activation = 'sigmoid'))\n",
    "model.summary()"
   ]
  },
  {
   "cell_type": "code",
   "execution_count": 42,
   "metadata": {},
   "outputs": [],
   "source": [
    "model.compile(loss='binary_crossentropy', optimizer='adam', metrics=['accuracy'])"
   ]
  },
  {
   "cell_type": "code",
   "execution_count": 43,
   "metadata": {},
   "outputs": [
    {
     "name": "stdout",
     "output_type": "stream",
     "text": [
      "Epoch 1/10\n",
      "15000/15000 [==============================] - 1s 63us/step - loss: 0.5508 - accuracy: 0.7781\n",
      "Epoch 2/10\n",
      "15000/15000 [==============================] - 1s 37us/step - loss: 0.3503 - accuracy: 0.9243\n",
      "Epoch 3/10\n",
      "15000/15000 [==============================] - 1s 39us/step - loss: 0.2961 - accuracy: 0.9243\n",
      "Epoch 4/10\n",
      "15000/15000 [==============================] - 1s 36us/step - loss: 0.2772 - accuracy: 0.9243\n",
      "Epoch 5/10\n",
      "15000/15000 [==============================] - 1s 37us/step - loss: 0.2708 - accuracy: 0.9243\n",
      "Epoch 6/10\n",
      "15000/15000 [==============================] - 1s 39us/step - loss: 0.2689 - accuracy: 0.9243\n",
      "Epoch 7/10\n",
      "15000/15000 [==============================] - 1s 38us/step - loss: 0.2684 - accuracy: 0.9243\n",
      "Epoch 8/10\n",
      "15000/15000 [==============================] - 1s 38us/step - loss: 0.2683 - accuracy: 0.9243\n",
      "Epoch 9/10\n",
      "15000/15000 [==============================] - 1s 43us/step - loss: 0.2682 - accuracy: 0.9243\n",
      "Epoch 10/10\n",
      "15000/15000 [==============================] - 1s 38us/step - loss: 0.2682 - accuracy: 0.9243\n"
     ]
    },
    {
     "data": {
      "text/plain": [
       "<keras.callbacks.callbacks.History at 0x1f63e826308>"
      ]
     },
     "execution_count": 43,
     "metadata": {},
     "output_type": "execute_result"
    }
   ],
   "source": [
    "model.fit(X_train, y_train, epochs=10)"
   ]
  },
  {
   "cell_type": "code",
   "execution_count": 44,
   "metadata": {},
   "outputs": [
    {
     "name": "stdout",
     "output_type": "stream",
     "text": [
      "5000/5000 [==============================] - 0s 30us/step\n",
      "92.10000038146973\n"
     ]
    }
   ],
   "source": [
    "test = model.evaluate(X_test, y_test)\n",
    "print(test[1]*100)"
   ]
  },
  {
   "cell_type": "code",
   "execution_count": 45,
   "metadata": {},
   "outputs": [
    {
     "name": "stdout",
     "output_type": "stream",
     "text": [
      "Model: \"sequential_4\"\n",
      "_________________________________________________________________\n",
      "Layer (type)                 Output Shape              Param #   \n",
      "=================================================================\n",
      "dense_13 (Dense)             (None, 500)               6000      \n",
      "_________________________________________________________________\n",
      "gaussian_noise_3 (GaussianNo (None, 500)               0         \n",
      "_________________________________________________________________\n",
      "dense_14 (Dense)             (None, 2)                 1002      \n",
      "=================================================================\n",
      "Total params: 7,002\n",
      "Trainable params: 7,002\n",
      "Non-trainable params: 0\n",
      "_________________________________________________________________\n"
     ]
    }
   ],
   "source": [
    "model = models.Sequential()\n",
    "model.add(layers.Dense(500, input_dim=11, activation='relu'))\n",
    "model.add(GaussianNoise(0.1))\n",
    "model.add(layers.Dense(2, activation='sigmoid'))\n",
    "model.summary()"
   ]
  },
  {
   "cell_type": "code",
   "execution_count": 46,
   "metadata": {},
   "outputs": [],
   "source": [
    "model.compile(loss='binary_crossentropy', optimizer='adam', metrics=['accuracy'])"
   ]
  },
  {
   "cell_type": "code",
   "execution_count": 47,
   "metadata": {},
   "outputs": [
    {
     "name": "stdout",
     "output_type": "stream",
     "text": [
      "Epoch 1/10\n",
      "15000/15000 [==============================] - 1s 49us/step - loss: 411.5542 - accuracy: 0.8567\n",
      "Epoch 2/10\n",
      "15000/15000 [==============================] - 1s 45us/step - loss: 292.6825 - accuracy: 0.8603\n",
      "Epoch 3/10\n",
      "15000/15000 [==============================] - 1s 47us/step - loss: 301.4735 - accuracy: 0.8595\n",
      "Epoch 4/10\n",
      "15000/15000 [==============================] - 1s 49us/step - loss: 265.9676 - accuracy: 0.8630\n",
      "Epoch 5/10\n",
      "15000/15000 [==============================] - 1s 45us/step - loss: 264.4423 - accuracy: 0.8591\n",
      "Epoch 6/10\n",
      "15000/15000 [==============================] - 1s 43us/step - loss: 262.7850 - accuracy: 0.8631\n",
      "Epoch 7/10\n",
      "15000/15000 [==============================] - 1s 48us/step - loss: 262.8258 - accuracy: 0.8629\n",
      "Epoch 8/10\n",
      "15000/15000 [==============================] - 1s 46us/step - loss: 242.6965 - accuracy: 0.8616\n",
      "Epoch 9/10\n",
      "15000/15000 [==============================] - 1s 46us/step - loss: 210.0559 - accuracy: 0.8624\n",
      "Epoch 10/10\n",
      "15000/15000 [==============================] - 1s 44us/step - loss: 242.3378 - accuracy: 0.8633\n"
     ]
    },
    {
     "data": {
      "text/plain": [
       "<keras.callbacks.callbacks.History at 0x1f63fd14a88>"
      ]
     },
     "execution_count": 47,
     "metadata": {},
     "output_type": "execute_result"
    }
   ],
   "source": [
    "model.fit(X_train, y_train, epochs=10)"
   ]
  },
  {
   "cell_type": "code",
   "execution_count": 48,
   "metadata": {},
   "outputs": [
    {
     "name": "stdout",
     "output_type": "stream",
     "text": [
      "5000/5000 [==============================] - 0s 28us/step\n",
      "59.32999849319458\n"
     ]
    }
   ],
   "source": [
    "test = model.evaluate(X_test, y_test)\n",
    "print(test[1]*100)"
   ]
  },
  {
   "cell_type": "markdown",
   "metadata": {},
   "source": [
    "## Loss - Binary Crossentropy and Optimizer - SGD"
   ]
  },
  {
   "cell_type": "code",
   "execution_count": 49,
   "metadata": {},
   "outputs": [
    {
     "name": "stdout",
     "output_type": "stream",
     "text": [
      "Model: \"sequential_5\"\n",
      "_________________________________________________________________\n",
      "Layer (type)                 Output Shape              Param #   \n",
      "=================================================================\n",
      "dense_15 (Dense)             (None, 60)                720       \n",
      "_________________________________________________________________\n",
      "dense_16 (Dense)             (None, 30)                1830      \n",
      "_________________________________________________________________\n",
      "dense_17 (Dense)             (None, 2)                 62        \n",
      "=================================================================\n",
      "Total params: 2,612\n",
      "Trainable params: 2,612\n",
      "Non-trainable params: 0\n",
      "_________________________________________________________________\n"
     ]
    }
   ],
   "source": [
    "model = models.Sequential()\n",
    "model.add(layers.Dense(60, input_dim=11, activation='relu'))\n",
    "model.add(layers.Dense(30,  activation='relu'))\n",
    "model.add(layers.Dense(2, activation='sigmoid'))\n",
    "sgd = SGD(lr=0.01, momentum=0.8)\n",
    "model.summary()"
   ]
  },
  {
   "cell_type": "code",
   "execution_count": 50,
   "metadata": {},
   "outputs": [],
   "source": [
    "model.compile(loss='binary_crossentropy', optimizer=sgd, metrics=['accuracy'])"
   ]
  },
  {
   "cell_type": "code",
   "execution_count": 51,
   "metadata": {},
   "outputs": [
    {
     "name": "stdout",
     "output_type": "stream",
     "text": [
      "Epoch 1/10\n",
      "15000/15000 [==============================] - 0s 33us/step - loss: nan - accuracy: 0.0130\n",
      "Epoch 2/10\n",
      "15000/15000 [==============================] - 0s 28us/step - loss: nan - accuracy: 0.0000e+00\n",
      "Epoch 3/10\n",
      "15000/15000 [==============================] - 0s 32us/step - loss: nan - accuracy: 0.0000e+00\n",
      "Epoch 4/10\n",
      "15000/15000 [==============================] - 1s 39us/step - loss: nan - accuracy: 0.0000e+00\n",
      "Epoch 5/10\n",
      "15000/15000 [==============================] - 1s 48us/step - loss: nan - accuracy: 0.0000e+00\n",
      "Epoch 6/10\n",
      "15000/15000 [==============================] - 1s 36us/step - loss: nan - accuracy: 0.0000e+00\n",
      "Epoch 7/10\n",
      "15000/15000 [==============================] - 1s 34us/step - loss: nan - accuracy: 0.0000e+00\n",
      "Epoch 8/10\n",
      "15000/15000 [==============================] - 0s 31us/step - loss: nan - accuracy: 0.0000e+00\n",
      "Epoch 9/10\n",
      "15000/15000 [==============================] - 0s 30us/step - loss: nan - accuracy: 0.0000e+00\n",
      "Epoch 10/10\n",
      "15000/15000 [==============================] - 0s 32us/step - loss: nan - accuracy: 0.0000e+00\n"
     ]
    },
    {
     "data": {
      "text/plain": [
       "<keras.callbacks.callbacks.History at 0x1f640f82cc8>"
      ]
     },
     "execution_count": 51,
     "metadata": {},
     "output_type": "execute_result"
    }
   ],
   "source": [
    "model.fit(X_train, y_train, epochs=10)"
   ]
  },
  {
   "cell_type": "code",
   "execution_count": 52,
   "metadata": {},
   "outputs": [
    {
     "name": "stdout",
     "output_type": "stream",
     "text": [
      "5000/5000 [==============================] - 0s 28us/step\n",
      "0.0\n"
     ]
    }
   ],
   "source": [
    "test = model.evaluate(X_test, y_test)\n",
    "print(test[1]*100)"
   ]
  },
  {
   "cell_type": "markdown",
   "metadata": {},
   "source": [
    "## Adding Dropout to avoid overfitting"
   ]
  },
  {
   "cell_type": "code",
   "execution_count": 53,
   "metadata": {},
   "outputs": [
    {
     "name": "stdout",
     "output_type": "stream",
     "text": [
      "Model: \"sequential_6\"\n",
      "_________________________________________________________________\n",
      "Layer (type)                 Output Shape              Param #   \n",
      "=================================================================\n",
      "dropout_1 (Dropout)          (None, 11)                0         \n",
      "_________________________________________________________________\n",
      "dense_18 (Dense)             (None, 60)                720       \n",
      "_________________________________________________________________\n",
      "dense_19 (Dense)             (None, 30)                1830      \n",
      "_________________________________________________________________\n",
      "dense_20 (Dense)             (None, 2)                 62        \n",
      "=================================================================\n",
      "Total params: 2,612\n",
      "Trainable params: 2,612\n",
      "Non-trainable params: 0\n",
      "_________________________________________________________________\n"
     ]
    }
   ],
   "source": [
    "model = models.Sequential()\n",
    "model.add(layers.Dropout(0.2, input_shape=(11,)))\n",
    "model.add(layers.Dense(60, activation='relu', kernel_constraint=maxnorm(3)))\n",
    "model.add(layers.Dense(30, activation='relu', kernel_constraint=maxnorm(3)))\n",
    "model.add(layers.Dense(2, activation='sigmoid'))\n",
    "sgd = SGD(lr=0.1, momentum=0.9)\n",
    "model.compile(loss='binary_crossentropy', optimizer=sgd, metrics=['accuracy'])\n",
    "model.summary()"
   ]
  },
  {
   "cell_type": "code",
   "execution_count": 54,
   "metadata": {},
   "outputs": [],
   "source": [
    "model.compile(loss='binary_crossentropy', optimizer=sgd, metrics=['accuracy'])"
   ]
  },
  {
   "cell_type": "code",
   "execution_count": 55,
   "metadata": {},
   "outputs": [
    {
     "name": "stdout",
     "output_type": "stream",
     "text": [
      "Epoch 1/10\n",
      "15000/15000 [==============================] - 1s 40us/step - loss: 31934573.5701 - accuracy: 0.9201\n",
      "Epoch 2/10\n",
      "15000/15000 [==============================] - 1s 37us/step - loss: 0.2684 - accuracy: 0.9243\n",
      "Epoch 3/10\n",
      "15000/15000 [==============================] - 0s 31us/step - loss: 0.2683 - accuracy: 0.9243\n",
      "Epoch 4/10\n",
      "15000/15000 [==============================] - 0s 33us/step - loss: 0.2686 - accuracy: 0.9243\n",
      "Epoch 5/10\n",
      "15000/15000 [==============================] - 0s 31us/step - loss: 0.2686 - accuracy: 0.9243\n",
      "Epoch 6/10\n",
      "15000/15000 [==============================] - 0s 32us/step - loss: 0.2685 - accuracy: 0.9243\n",
      "Epoch 7/10\n",
      "15000/15000 [==============================] - 0s 32us/step - loss: 0.2685 - accuracy: 0.9243\n",
      "Epoch 8/10\n",
      "15000/15000 [==============================] - 1s 38us/step - loss: 0.2685 - accuracy: 0.9243\n",
      "Epoch 9/10\n",
      "15000/15000 [==============================] - 1s 35us/step - loss: 0.2684 - accuracy: 0.9243\n",
      "Epoch 10/10\n",
      "15000/15000 [==============================] - 1s 37us/step - loss: 0.2684 - accuracy: 0.9243\n"
     ]
    },
    {
     "data": {
      "text/plain": [
       "<keras.callbacks.callbacks.History at 0x1f6410d76c8>"
      ]
     },
     "execution_count": 55,
     "metadata": {},
     "output_type": "execute_result"
    }
   ],
   "source": [
    "model.fit(X_train, y_train, epochs=10)"
   ]
  },
  {
   "cell_type": "code",
   "execution_count": 56,
   "metadata": {},
   "outputs": [
    {
     "name": "stdout",
     "output_type": "stream",
     "text": [
      "5000/5000 [==============================] - 0s 33us/step\n",
      "92.10000038146973\n"
     ]
    }
   ],
   "source": [
    "test = model.evaluate(X_test, y_test)\n",
    "print(test[1]*100)"
   ]
  },
  {
   "cell_type": "code",
   "execution_count": 57,
   "metadata": {},
   "outputs": [
    {
     "name": "stdout",
     "output_type": "stream",
     "text": [
      "WARNING:tensorflow:Large dropout rate: 0.6 (>0.5). In TensorFlow 2.x, dropout() uses dropout rate instead of keep_prob. Please ensure that this is intended.\n",
      "Model: \"sequential_7\"\n",
      "_________________________________________________________________\n",
      "Layer (type)                 Output Shape              Param #   \n",
      "=================================================================\n",
      "dense_21 (Dense)             (None, 60)                720       \n",
      "_________________________________________________________________\n",
      "dropout_2 (Dropout)          (None, 60)                0         \n",
      "_________________________________________________________________\n",
      "dense_22 (Dense)             (None, 30)                1830      \n",
      "_________________________________________________________________\n",
      "dropout_3 (Dropout)          (None, 30)                0         \n",
      "_________________________________________________________________\n",
      "dense_23 (Dense)             (None, 2)                 62        \n",
      "=================================================================\n",
      "Total params: 2,612\n",
      "Trainable params: 2,612\n",
      "Non-trainable params: 0\n",
      "_________________________________________________________________\n"
     ]
    }
   ],
   "source": [
    "model = models.Sequential()\n",
    "model.add(layers.Dense(60, input_dim=11, activation='relu', kernel_constraint=maxnorm(3)))\n",
    "model.add(layers.Dropout(0.2))\n",
    "model.add(layers.Dense(30, activation='relu', kernel_constraint=maxnorm(3)))\n",
    "model.add(layers.Dropout(0.6))\n",
    "model.add(layers.Dense(2, activation='sigmoid'))\n",
    "# Compile model\n",
    "sgd = SGD(lr=0.5, momentum=0.8)\n",
    "model.summary()"
   ]
  },
  {
   "cell_type": "code",
   "execution_count": 58,
   "metadata": {},
   "outputs": [],
   "source": [
    "model.compile(loss='binary_crossentropy', optimizer=sgd, metrics=['accuracy'])"
   ]
  },
  {
   "cell_type": "code",
   "execution_count": 59,
   "metadata": {},
   "outputs": [
    {
     "name": "stdout",
     "output_type": "stream",
     "text": [
      "Epoch 1/10\n",
      "15000/15000 [==============================] - 1s 44us/step - loss: 29152671.2957 - accuracy: 0.9216\n",
      "Epoch 2/10\n",
      "15000/15000 [==============================] - 1s 38us/step - loss: 0.2689 - accuracy: 0.9243\n",
      "Epoch 3/10\n",
      "15000/15000 [==============================] - 1s 41us/step - loss: 0.2690 - accuracy: 0.9243\n",
      "Epoch 4/10\n",
      "15000/15000 [==============================] - 1s 38us/step - loss: 0.2691 - accuracy: 0.9243\n",
      "Epoch 5/10\n",
      "15000/15000 [==============================] - 1s 38us/step - loss: 0.2690 - accuracy: 0.9243\n",
      "Epoch 6/10\n",
      "15000/15000 [==============================] - 1s 38us/step - loss: 0.2690 - accuracy: 0.9243\n",
      "Epoch 7/10\n",
      "15000/15000 [==============================] - 1s 44us/step - loss: 0.2689 - accuracy: 0.9243\n",
      "Epoch 8/10\n",
      "15000/15000 [==============================] - 1s 38us/step - loss: 0.2687 - accuracy: 0.9243\n",
      "Epoch 9/10\n",
      "15000/15000 [==============================] - 1s 40us/step - loss: 0.2688 - accuracy: 0.9243\n",
      "Epoch 10/10\n",
      "15000/15000 [==============================] - 1s 38us/step - loss: 0.2692 - accuracy: 0.9243\n"
     ]
    },
    {
     "data": {
      "text/plain": [
       "<keras.callbacks.callbacks.History at 0x1f6428524c8>"
      ]
     },
     "execution_count": 59,
     "metadata": {},
     "output_type": "execute_result"
    }
   ],
   "source": [
    "model.fit(X_train, y_train, epochs=10)"
   ]
  },
  {
   "cell_type": "code",
   "execution_count": 60,
   "metadata": {},
   "outputs": [
    {
     "name": "stdout",
     "output_type": "stream",
     "text": [
      "5000/5000 [==============================] - 0s 39us/step\n",
      "92.10000038146973\n"
     ]
    }
   ],
   "source": [
    "test = model.evaluate(X_test, y_test)\n",
    "print(test[1]*100)"
   ]
  },
  {
   "cell_type": "code",
   "execution_count": 61,
   "metadata": {},
   "outputs": [
    {
     "name": "stdout",
     "output_type": "stream",
     "text": [
      "Model: \"sequential_8\"\n",
      "_________________________________________________________________\n",
      "Layer (type)                 Output Shape              Param #   \n",
      "=================================================================\n",
      "dense_24 (Dense)             (None, 60)                720       \n",
      "_________________________________________________________________\n",
      "alpha_dropout_1 (AlphaDropou (None, 60)                0         \n",
      "_________________________________________________________________\n",
      "dense_25 (Dense)             (None, 30)                1830      \n",
      "_________________________________________________________________\n",
      "alpha_dropout_2 (AlphaDropou (None, 30)                0         \n",
      "_________________________________________________________________\n",
      "dense_26 (Dense)             (None, 2)                 62        \n",
      "=================================================================\n",
      "Total params: 2,612\n",
      "Trainable params: 2,612\n",
      "Non-trainable params: 0\n",
      "_________________________________________________________________\n"
     ]
    }
   ],
   "source": [
    "model = models.Sequential()\n",
    "model.add(layers.Dense(60, input_dim=11, activation='relu', kernel_constraint=maxnorm(3)))\n",
    "model.add(layers.AlphaDropout(0.2))\n",
    "model.add(layers.Dense(30, activation='relu', kernel_constraint=maxnorm(3)))\n",
    "model.add(layers.AlphaDropout(0.2))\n",
    "model.add(layers.Dense(2, activation='sigmoid'))\n",
    "# Compile model\n",
    "sgd = SGD(lr=0.1, momentum=0.9)\n",
    "model.summary()"
   ]
  },
  {
   "cell_type": "code",
   "execution_count": 62,
   "metadata": {},
   "outputs": [],
   "source": [
    "model.compile(loss='binary_crossentropy', optimizer=sgd, metrics=['accuracy'])"
   ]
  },
  {
   "cell_type": "code",
   "execution_count": 63,
   "metadata": {},
   "outputs": [
    {
     "name": "stdout",
     "output_type": "stream",
     "text": [
      "Epoch 1/10\n",
      "15000/15000 [==============================] - 1s 54us/step - loss: 2498623.4517 - accuracy: 0.8342\n",
      "Epoch 2/10\n",
      "15000/15000 [==============================] - 1s 44us/step - loss: 68077.5560 - accuracy: 0.8445\n",
      "Epoch 3/10\n",
      "15000/15000 [==============================] - 1s 44us/step - loss: 63029.9297 - accuracy: 0.8492\n",
      "Epoch 4/10\n",
      "15000/15000 [==============================] - 1s 41us/step - loss: 64311.2354 - accuracy: 0.8470\n",
      "Epoch 5/10\n",
      "15000/15000 [==============================] - 1s 44us/step - loss: 66728.5745 - accuracy: 0.8474\n",
      "Epoch 6/10\n",
      "15000/15000 [==============================] - 1s 48us/step - loss: 66090.9675 - accuracy: 0.8467\n",
      "Epoch 7/10\n",
      "15000/15000 [==============================] - 1s 47us/step - loss: 460041.2771 - accuracy: 0.5132\n",
      "Epoch 8/10\n",
      "15000/15000 [==============================] - 1s 44us/step - loss: 216949.8017 - accuracy: 0.4612\n",
      "Epoch 9/10\n",
      "15000/15000 [==============================] - 1s 42us/step - loss: 218866.3806 - accuracy: 0.4595\n",
      "Epoch 10/10\n",
      "15000/15000 [==============================] - 1s 41us/step - loss: 216671.7265 - accuracy: 0.4602\n"
     ]
    },
    {
     "data": {
      "text/plain": [
       "<keras.callbacks.callbacks.History at 0x1f643c5ab88>"
      ]
     },
     "execution_count": 63,
     "metadata": {},
     "output_type": "execute_result"
    }
   ],
   "source": [
    "model.fit(X_train, y_train, epochs=10)"
   ]
  },
  {
   "cell_type": "code",
   "execution_count": 64,
   "metadata": {},
   "outputs": [
    {
     "name": "stdout",
     "output_type": "stream",
     "text": [
      "5000/5000 [==============================] - 0s 32us/step\n",
      "92.10000038146973\n"
     ]
    }
   ],
   "source": [
    "test = model.evaluate(X_test, y_test)\n",
    "print(test[1]*100)"
   ]
  },
  {
   "cell_type": "markdown",
   "metadata": {},
   "source": [
    "## Loss - Categorical Hinge  and Optimizer - SGD"
   ]
  },
  {
   "cell_type": "code",
   "execution_count": 65,
   "metadata": {},
   "outputs": [
    {
     "name": "stdout",
     "output_type": "stream",
     "text": [
      "Model: \"sequential_9\"\n",
      "_________________________________________________________________\n",
      "Layer (type)                 Output Shape              Param #   \n",
      "=================================================================\n",
      "dense_27 (Dense)             (None, 128)               1536      \n",
      "_________________________________________________________________\n",
      "dense_28 (Dense)             (None, 32)                4128      \n",
      "_________________________________________________________________\n",
      "gaussian_noise_4 (GaussianNo (None, 32)                0         \n",
      "_________________________________________________________________\n",
      "dense_29 (Dense)             (None, 2)                 66        \n",
      "_________________________________________________________________\n",
      "dense_30 (Dense)             (None, 2)                 6         \n",
      "=================================================================\n",
      "Total params: 5,736\n",
      "Trainable params: 5,736\n",
      "Non-trainable params: 0\n",
      "_________________________________________________________________\n"
     ]
    },
    {
     "name": "stderr",
     "output_type": "stream",
     "text": [
      "c:\\users\\rahul\\appdata\\local\\programs\\python\\python37\\lib\\site-packages\\ipykernel_launcher.py:2: UserWarning: Update your `Dense` call to the Keras 2 API: `Dense(activation=\"relu\", input_dim=11, units=128, kernel_initializer=\"uniform\")`\n",
      "  \n",
      "c:\\users\\rahul\\appdata\\local\\programs\\python\\python37\\lib\\site-packages\\ipykernel_launcher.py:3: UserWarning: Update your `Dense` call to the Keras 2 API: `Dense(activation=\"relu\", units=32, kernel_initializer=\"uniform\")`\n",
      "  This is separate from the ipykernel package so we can avoid doing imports until\n",
      "c:\\users\\rahul\\appdata\\local\\programs\\python\\python37\\lib\\site-packages\\ipykernel_launcher.py:5: UserWarning: Update your `Dense` call to the Keras 2 API: `Dense(activation=\"softmax\", units=2)`\n",
      "  \"\"\"\n",
      "c:\\users\\rahul\\appdata\\local\\programs\\python\\python37\\lib\\site-packages\\ipykernel_launcher.py:6: UserWarning: Update your `Dense` call to the Keras 2 API: `Dense(activation=\"sigmoid\", units=2)`\n",
      "  \n"
     ]
    }
   ],
   "source": [
    "model = models.Sequential()\n",
    "model.add(layers.Dense(output_dim=128, init='uniform', activation='relu', input_dim=11))\n",
    "model.add(layers.Dense(output_dim=32, init='uniform', activation='relu'))\n",
    "model.add(GaussianNoise(1))\n",
    "model.add(layers.Dense(output_dim=2, activation='softmax'))\n",
    "model.add(layers.Dense(output_dim=2, activation = 'sigmoid'))\n",
    "model.summary()"
   ]
  },
  {
   "cell_type": "code",
   "execution_count": 66,
   "metadata": {},
   "outputs": [],
   "source": [
    "model.compile(loss='categorical_hinge', optimizer='sgd', metrics=['accuracy'])"
   ]
  },
  {
   "cell_type": "code",
   "execution_count": 67,
   "metadata": {},
   "outputs": [
    {
     "name": "stdout",
     "output_type": "stream",
     "text": [
      "Epoch 1/10\n",
      "15000/15000 [==============================] - 1s 52us/step - loss: 0.7276 - accuracy: 0.8835\n",
      "Epoch 2/10\n",
      "15000/15000 [==============================] - 1s 37us/step - loss: 0.3709 - accuracy: 0.9243\n",
      "Epoch 3/10\n",
      "15000/15000 [==============================] - 1s 38us/step - loss: 0.2678 - accuracy: 0.9243\n",
      "Epoch 4/10\n",
      "15000/15000 [==============================] - 1s 42us/step - loss: 0.2290 - accuracy: 0.9243\n",
      "Epoch 5/10\n",
      "15000/15000 [==============================] - 1s 37us/step - loss: 0.2093 - accuracy: 0.9243\n",
      "Epoch 6/10\n",
      "15000/15000 [==============================] - 1s 41us/step - loss: 0.1974 - accuracy: 0.9243\n",
      "Epoch 7/10\n",
      "15000/15000 [==============================] - 1s 43us/step - loss: 0.1896 - accuracy: 0.9243\n",
      "Epoch 8/10\n",
      "15000/15000 [==============================] - 1s 45us/step - loss: 0.1840 - accuracy: 0.9243\n",
      "Epoch 9/10\n",
      "15000/15000 [==============================] - 1s 42us/step - loss: 0.1798 - accuracy: 0.9243\n",
      "Epoch 10/10\n",
      "15000/15000 [==============================] - 1s 39us/step - loss: 0.1765 - accuracy: 0.9243\n"
     ]
    },
    {
     "data": {
      "text/plain": [
       "<keras.callbacks.callbacks.History at 0x1f644f5bf88>"
      ]
     },
     "execution_count": 67,
     "metadata": {},
     "output_type": "execute_result"
    }
   ],
   "source": [
    "model.fit(X_train, y_train, epochs=10)"
   ]
  },
  {
   "cell_type": "code",
   "execution_count": 68,
   "metadata": {},
   "outputs": [
    {
     "name": "stdout",
     "output_type": "stream",
     "text": [
      "5000/5000 [==============================] - 0s 32us/step\n",
      "92.10000038146973\n"
     ]
    }
   ],
   "source": [
    "test = model.evaluate(X_test, y_test)\n",
    "print(test[1]*100)"
   ]
  },
  {
   "cell_type": "markdown",
   "metadata": {},
   "source": [
    "## Loss - Binary Crossentropy and Optimizer - SGD"
   ]
  },
  {
   "cell_type": "code",
   "execution_count": 69,
   "metadata": {},
   "outputs": [
    {
     "name": "stdout",
     "output_type": "stream",
     "text": [
      "Model: \"sequential_10\"\n",
      "_________________________________________________________________\n",
      "Layer (type)                 Output Shape              Param #   \n",
      "=================================================================\n",
      "dense_31 (Dense)             (None, 128)               1536      \n",
      "_________________________________________________________________\n",
      "dense_32 (Dense)             (None, 32)                4128      \n",
      "_________________________________________________________________\n",
      "gaussian_noise_5 (GaussianNo (None, 32)                0         \n",
      "_________________________________________________________________\n",
      "dense_33 (Dense)             (None, 2)                 66        \n",
      "_________________________________________________________________\n",
      "dense_34 (Dense)             (None, 2)                 6         \n",
      "=================================================================\n",
      "Total params: 5,736\n",
      "Trainable params: 5,736\n",
      "Non-trainable params: 0\n",
      "_________________________________________________________________\n"
     ]
    },
    {
     "name": "stderr",
     "output_type": "stream",
     "text": [
      "c:\\users\\rahul\\appdata\\local\\programs\\python\\python37\\lib\\site-packages\\ipykernel_launcher.py:2: UserWarning: Update your `Dense` call to the Keras 2 API: `Dense(activation=\"relu\", input_dim=11, units=128, kernel_initializer=\"uniform\")`\n",
      "  \n",
      "c:\\users\\rahul\\appdata\\local\\programs\\python\\python37\\lib\\site-packages\\ipykernel_launcher.py:3: UserWarning: Update your `Dense` call to the Keras 2 API: `Dense(activation=\"tanh\", units=32, kernel_initializer=\"uniform\")`\n",
      "  This is separate from the ipykernel package so we can avoid doing imports until\n",
      "c:\\users\\rahul\\appdata\\local\\programs\\python\\python37\\lib\\site-packages\\ipykernel_launcher.py:5: UserWarning: Update your `Dense` call to the Keras 2 API: `Dense(activation=\"softmax\", units=2)`\n",
      "  \"\"\"\n",
      "c:\\users\\rahul\\appdata\\local\\programs\\python\\python37\\lib\\site-packages\\ipykernel_launcher.py:6: UserWarning: Update your `Dense` call to the Keras 2 API: `Dense(activation=\"sigmoid\", units=2)`\n",
      "  \n"
     ]
    }
   ],
   "source": [
    "model = models.Sequential()\n",
    "model.add(layers.Dense(output_dim=128, init='uniform', activation='relu', input_dim=11))\n",
    "model.add(layers.Dense(output_dim=32, init='uniform', activation='tanh'))\n",
    "model.add(GaussianNoise(0.1))\n",
    "model.add(layers.Dense(output_dim=2, activation='softmax'))\n",
    "model.add(layers.Dense(output_dim=2, activation = 'sigmoid'))\n",
    "model.summary()"
   ]
  },
  {
   "cell_type": "code",
   "execution_count": 70,
   "metadata": {},
   "outputs": [],
   "source": [
    "model.compile(loss='binary_crossentropy', optimizer=sgd, metrics=['accuracy'])"
   ]
  },
  {
   "cell_type": "code",
   "execution_count": 71,
   "metadata": {},
   "outputs": [
    {
     "name": "stdout",
     "output_type": "stream",
     "text": [
      "Epoch 1/10\n",
      "15000/15000 [==============================] - 1s 55us/step - loss: 0.2763 - accuracy: 0.9195\n",
      "Epoch 2/10\n",
      "15000/15000 [==============================] - 1s 43us/step - loss: 0.2684 - accuracy: 0.9243\n",
      "Epoch 3/10\n",
      "15000/15000 [==============================] - 1s 40us/step - loss: 0.2687 - accuracy: 0.9243\n",
      "Epoch 4/10\n",
      "15000/15000 [==============================] - 1s 38us/step - loss: 0.2687 - accuracy: 0.9243\n",
      "Epoch 5/10\n",
      "15000/15000 [==============================] - 1s 45us/step - loss: 0.2687 - accuracy: 0.9243\n",
      "Epoch 6/10\n",
      "15000/15000 [==============================] - 1s 39us/step - loss: 0.2687 - accuracy: 0.9243\n",
      "Epoch 7/10\n",
      "15000/15000 [==============================] - 1s 39us/step - loss: 0.2687 - accuracy: 0.9243\n",
      "Epoch 8/10\n",
      "15000/15000 [==============================] - 1s 38us/step - loss: 0.2687 - accuracy: 0.9243\n",
      "Epoch 9/10\n",
      "15000/15000 [==============================] - 1s 38us/step - loss: 0.2688 - accuracy: 0.9243\n",
      "Epoch 10/10\n",
      "15000/15000 [==============================] - 1s 37us/step - loss: 0.2687 - accuracy: 0.9243\n"
     ]
    },
    {
     "data": {
      "text/plain": [
       "<keras.callbacks.callbacks.History at 0x1f643ccf8c8>"
      ]
     },
     "execution_count": 71,
     "metadata": {},
     "output_type": "execute_result"
    }
   ],
   "source": [
    "model.fit(X_train, y_train, epochs=10)"
   ]
  },
  {
   "cell_type": "code",
   "execution_count": 72,
   "metadata": {
    "scrolled": true
   },
   "outputs": [
    {
     "name": "stdout",
     "output_type": "stream",
     "text": [
      "5000/5000 [==============================] - 0s 32us/step\n",
      "92.10000038146973\n"
     ]
    }
   ],
   "source": [
    "test = model.evaluate(X_test, y_test)\n",
    "print(test[1]*100)"
   ]
  },
  {
   "cell_type": "code",
   "execution_count": 73,
   "metadata": {},
   "outputs": [
    {
     "name": "stdout",
     "output_type": "stream",
     "text": [
      "Model: \"sequential_11\"\n",
      "_________________________________________________________________\n",
      "Layer (type)                 Output Shape              Param #   \n",
      "=================================================================\n",
      "dense_35 (Dense)             (None, 60)                720       \n",
      "_________________________________________________________________\n",
      "dense_36 (Dense)             (None, 30)                1830      \n",
      "_________________________________________________________________\n",
      "dense_37 (Dense)             (None, 2)                 62        \n",
      "=================================================================\n",
      "Total params: 2,612\n",
      "Trainable params: 2,612\n",
      "Non-trainable params: 0\n",
      "_________________________________________________________________\n"
     ]
    }
   ],
   "source": [
    "model = models.Sequential()\n",
    "model.add(layers.Dense(60, input_dim=11, activation='relu'))\n",
    "model.add(layers.Dense(30,  activation='relu'))\n",
    "model.add(layers.Dense(2, activation='sigmoid'))\n",
    "sgd = SGD(lr=0.05, momentum=0.9)\n",
    "model.summary()"
   ]
  },
  {
   "cell_type": "code",
   "execution_count": 74,
   "metadata": {},
   "outputs": [],
   "source": [
    "model.compile(loss='binary_crossentropy', optimizer=sgd, metrics=['accuracy'])"
   ]
  },
  {
   "cell_type": "code",
   "execution_count": 75,
   "metadata": {},
   "outputs": [
    {
     "name": "stdout",
     "output_type": "stream",
     "text": [
      "Epoch 1/10\n",
      "15000/15000 [==============================] - 1s 46us/step - loss: 2993349396540.6753 - accuracy: 0.9217\n",
      "Epoch 2/10\n",
      "15000/15000 [==============================] - 1s 36us/step - loss: 0.2683 - accuracy: 0.9243\n",
      "Epoch 3/10\n",
      "15000/15000 [==============================] - 1s 34us/step - loss: 0.2684 - accuracy: 0.9243\n",
      "Epoch 4/10\n",
      "15000/15000 [==============================] - 1s 38us/step - loss: 0.2683 - accuracy: 0.9243\n",
      "Epoch 5/10\n",
      "15000/15000 [==============================] - 1s 40us/step - loss: 0.2683 - accuracy: 0.9243\n",
      "Epoch 6/10\n",
      "15000/15000 [==============================] - 1s 37us/step - loss: 0.2685 - accuracy: 0.9243\n",
      "Epoch 7/10\n",
      "15000/15000 [==============================] - 1s 45us/step - loss: 0.2684 - accuracy: 0.9243\n",
      "Epoch 8/10\n",
      "15000/15000 [==============================] - 1s 40us/step - loss: 0.2684 - accuracy: 0.9243\n",
      "Epoch 9/10\n",
      "15000/15000 [==============================] - 1s 38us/step - loss: 0.2684 - accuracy: 0.9243\n",
      "Epoch 10/10\n",
      "15000/15000 [==============================] - 1s 33us/step - loss: 0.2683 - accuracy: 0.9243\n"
     ]
    },
    {
     "data": {
      "text/plain": [
       "<keras.callbacks.callbacks.History at 0x1f6464cde88>"
      ]
     },
     "execution_count": 75,
     "metadata": {},
     "output_type": "execute_result"
    }
   ],
   "source": [
    "model.fit(X_train, y_train, epochs=10)"
   ]
  },
  {
   "cell_type": "code",
   "execution_count": 76,
   "metadata": {},
   "outputs": [
    {
     "name": "stdout",
     "output_type": "stream",
     "text": [
      "5000/5000 [==============================] - 0s 31us/step\n",
      "92.10000038146973\n"
     ]
    }
   ],
   "source": [
    "test = model.evaluate(X_test, y_test)\n",
    "print(test[1]*100)"
   ]
  },
  {
   "cell_type": "markdown",
   "metadata": {},
   "source": [
    "## Loss - Binary Crossentropy and Optimizer - RMSP"
   ]
  },
  {
   "cell_type": "code",
   "execution_count": 77,
   "metadata": {},
   "outputs": [
    {
     "name": "stdout",
     "output_type": "stream",
     "text": [
      "Model: \"sequential_12\"\n",
      "_________________________________________________________________\n",
      "Layer (type)                 Output Shape              Param #   \n",
      "=================================================================\n",
      "dense_38 (Dense)             (None, 60)                720       \n",
      "_________________________________________________________________\n",
      "dense_39 (Dense)             (None, 30)                1830      \n",
      "_________________________________________________________________\n",
      "dense_40 (Dense)             (None, 2)                 62        \n",
      "=================================================================\n",
      "Total params: 2,612\n",
      "Trainable params: 2,612\n",
      "Non-trainable params: 0\n",
      "_________________________________________________________________\n"
     ]
    }
   ],
   "source": [
    "model = models.Sequential()\n",
    "model.add(layers.Dense(60, input_dim=11, activation='relu'))\n",
    "model.add(layers.Dense(30,  activation='relu'))\n",
    "model.add(layers.Dense(2, activation='sigmoid'))\n",
    "rmsp = keras.optimizers.RMSprop(learning_rate=1.5, rho=0.9)\n",
    "model.summary()"
   ]
  },
  {
   "cell_type": "code",
   "execution_count": 78,
   "metadata": {},
   "outputs": [],
   "source": [
    "model.compile(loss='binary_crossentropy', optimizer=rmsp, metrics=['binary_accuracy'])"
   ]
  },
  {
   "cell_type": "code",
   "execution_count": 79,
   "metadata": {},
   "outputs": [
    {
     "name": "stdout",
     "output_type": "stream",
     "text": [
      "Epoch 1/10\n",
      "15000/15000 [==============================] - 1s 46us/step - loss: 1502024.6196 - binary_accuracy: 0.9175\n",
      "Epoch 2/10\n",
      "15000/15000 [==============================] - 1s 35us/step - loss: 0.2992 - binary_accuracy: 0.9207\n",
      "Epoch 3/10\n",
      "15000/15000 [==============================] - 1s 41us/step - loss: 0.3004 - binary_accuracy: 0.9184\n",
      "Epoch 4/10\n",
      "15000/15000 [==============================] - 1s 39us/step - loss: 0.2980 - binary_accuracy: 0.9225\n",
      "Epoch 5/10\n",
      "15000/15000 [==============================] - 1s 36us/step - loss: 0.2998 - binary_accuracy: 0.9169\n",
      "Epoch 6/10\n",
      "15000/15000 [==============================] - 0s 32us/step - loss: 0.3000 - binary_accuracy: 0.9243\n",
      "Epoch 7/10\n",
      "15000/15000 [==============================] - 0s 32us/step - loss: 0.2989 - binary_accuracy: 0.9243\n",
      "Epoch 8/10\n",
      "15000/15000 [==============================] - 1s 35us/step - loss: 0.2990 - binary_accuracy: 0.9231\n",
      "Epoch 9/10\n",
      "15000/15000 [==============================] - 1s 34us/step - loss: 0.2989 - binary_accuracy: 0.9229\n",
      "Epoch 10/10\n",
      "15000/15000 [==============================] - 0s 32us/step - loss: 0.2980 - binary_accuracy: 0.9207\n"
     ]
    },
    {
     "data": {
      "text/plain": [
       "<keras.callbacks.callbacks.History at 0x1f643f47108>"
      ]
     },
     "execution_count": 79,
     "metadata": {},
     "output_type": "execute_result"
    }
   ],
   "source": [
    "model.fit(X_train, y_train, epochs=10)"
   ]
  },
  {
   "cell_type": "code",
   "execution_count": 80,
   "metadata": {},
   "outputs": [
    {
     "name": "stdout",
     "output_type": "stream",
     "text": [
      "5000/5000 [==============================] - 0s 31us/step\n",
      "92.10000038146973\n"
     ]
    }
   ],
   "source": [
    "test = model.evaluate(X_test, y_test)\n",
    "print(test[1]*100)"
   ]
  },
  {
   "cell_type": "markdown",
   "metadata": {},
   "source": [
    "## Loss - Binary Crossentropy and Optimizer - ADG "
   ]
  },
  {
   "cell_type": "code",
   "execution_count": 81,
   "metadata": {},
   "outputs": [
    {
     "name": "stdout",
     "output_type": "stream",
     "text": [
      "Model: \"sequential_13\"\n",
      "_________________________________________________________________\n",
      "Layer (type)                 Output Shape              Param #   \n",
      "=================================================================\n",
      "dense_41 (Dense)             (None, 60)                720       \n",
      "_________________________________________________________________\n",
      "dense_42 (Dense)             (None, 30)                1830      \n",
      "_________________________________________________________________\n",
      "dense_43 (Dense)             (None, 2)                 62        \n",
      "=================================================================\n",
      "Total params: 2,612\n",
      "Trainable params: 2,612\n",
      "Non-trainable params: 0\n",
      "_________________________________________________________________\n"
     ]
    }
   ],
   "source": [
    "model = models.Sequential()\n",
    "model.add(layers.Dense(60, input_dim=11, activation='relu'))\n",
    "model.add(layers.Dense(30,  activation='relu'))\n",
    "model.add(layers.Dense(2, activation='sigmoid'))\n",
    "adg = keras.optimizers.Adagrad(learning_rate=0.01)\n",
    "model.summary()"
   ]
  },
  {
   "cell_type": "code",
   "execution_count": 82,
   "metadata": {},
   "outputs": [],
   "source": [
    "model.compile(loss='binary_crossentropy', optimizer=adg, metrics=['binary_accuracy'])"
   ]
  },
  {
   "cell_type": "code",
   "execution_count": 83,
   "metadata": {},
   "outputs": [
    {
     "name": "stdout",
     "output_type": "stream",
     "text": [
      "Epoch 1/10\n",
      "15000/15000 [==============================] - 1s 49us/step - loss: 759.5719 - binary_accuracy: 0.8537\n",
      "Epoch 2/10\n",
      "15000/15000 [==============================] - 1s 35us/step - loss: 277.5285 - binary_accuracy: 0.8570\n",
      "Epoch 3/10\n",
      "15000/15000 [==============================] - 1s 53us/step - loss: 223.9213 - binary_accuracy: 0.8599\n",
      "Epoch 4/10\n",
      "15000/15000 [==============================] - 1s 52us/step - loss: 174.5789 - binary_accuracy: 0.8593\n",
      "Epoch 5/10\n",
      "15000/15000 [==============================] - 1s 39us/step - loss: 149.2005 - binary_accuracy: 0.8592\n",
      "Epoch 6/10\n",
      "15000/15000 [==============================] - 1s 37us/step - loss: 137.1097 - binary_accuracy: 0.8613\n",
      "Epoch 7/10\n",
      "15000/15000 [==============================] - 1s 41us/step - loss: 127.4012 - binary_accuracy: 0.8602\n",
      "Epoch 8/10\n",
      "15000/15000 [==============================] - 1s 38us/step - loss: 114.8955 - binary_accuracy: 0.8635\n",
      "Epoch 9/10\n",
      "15000/15000 [==============================] - 1s 34us/step - loss: 107.8867 - binary_accuracy: 0.8635\n",
      "Epoch 10/10\n",
      "15000/15000 [==============================] - 0s 33us/step - loss: 102.5563 - binary_accuracy: 0.8652\n"
     ]
    },
    {
     "data": {
      "text/plain": [
       "<keras.callbacks.callbacks.History at 0x1f647c8c408>"
      ]
     },
     "execution_count": 83,
     "metadata": {},
     "output_type": "execute_result"
    }
   ],
   "source": [
    "model.fit(X_train, y_train, epochs=10)"
   ]
  },
  {
   "cell_type": "code",
   "execution_count": 84,
   "metadata": {},
   "outputs": [
    {
     "name": "stdout",
     "output_type": "stream",
     "text": [
      "5000/5000 [==============================] - 0s 42us/step\n",
      "91.07999801635742\n"
     ]
    }
   ],
   "source": [
    "test = model.evaluate(X_test, y_test)\n",
    "print(test[1]*100)"
   ]
  },
  {
   "cell_type": "markdown",
   "metadata": {},
   "source": [
    "## Loss - Binary Crossentropy and Optimizer - ADDE "
   ]
  },
  {
   "cell_type": "code",
   "execution_count": 85,
   "metadata": {},
   "outputs": [
    {
     "name": "stdout",
     "output_type": "stream",
     "text": [
      "Model: \"sequential_14\"\n",
      "_________________________________________________________________\n",
      "Layer (type)                 Output Shape              Param #   \n",
      "=================================================================\n",
      "dense_44 (Dense)             (None, 60)                720       \n",
      "_________________________________________________________________\n",
      "dense_45 (Dense)             (None, 30)                1830      \n",
      "_________________________________________________________________\n",
      "dense_46 (Dense)             (None, 2)                 62        \n",
      "=================================================================\n",
      "Total params: 2,612\n",
      "Trainable params: 2,612\n",
      "Non-trainable params: 0\n",
      "_________________________________________________________________\n"
     ]
    }
   ],
   "source": [
    "model = models.Sequential()\n",
    "model.add(layers.Dense(60, input_dim=11, activation='relu'))\n",
    "model.add(layers.Dense(30,  activation='relu'))\n",
    "model.add(layers.Dense(2, activation='sigmoid'))\n",
    "adde = keras.optimizers.Adadelta(learning_rate=1.0, rho=0.95)\n",
    "model.summary()"
   ]
  },
  {
   "cell_type": "code",
   "execution_count": 86,
   "metadata": {},
   "outputs": [],
   "source": [
    "model.compile(loss='binary_crossentropy', optimizer=adde, metrics=['categorical_accuracy'])"
   ]
  },
  {
   "cell_type": "code",
   "execution_count": 87,
   "metadata": {},
   "outputs": [
    {
     "name": "stdout",
     "output_type": "stream",
     "text": [
      "Epoch 1/10\n",
      "15000/15000 [==============================] - 1s 52us/step - loss: 428.9918 - categorical_accuracy: 0.8945\n",
      "Epoch 2/10\n",
      "15000/15000 [==============================] - ETA: 0s - loss: 306.0945 - categorical_accuracy: 0.89 - 1s 41us/step - loss: 305.0443 - categorical_accuracy: 0.8966\n",
      "Epoch 3/10\n",
      "15000/15000 [==============================] - 1s 40us/step - loss: 298.6648 - categorical_accuracy: 0.8940\n",
      "Epoch 4/10\n",
      "15000/15000 [==============================] - 1s 40us/step - loss: 256.0760 - categorical_accuracy: 0.8919\n",
      "Epoch 5/10\n",
      "15000/15000 [==============================] - 1s 39us/step - loss: 238.1580 - categorical_accuracy: 0.8952\n",
      "Epoch 6/10\n",
      "15000/15000 [==============================] - 1s 42us/step - loss: 243.5688 - categorical_accuracy: 0.8927\n",
      "Epoch 7/10\n",
      "15000/15000 [==============================] - 1s 37us/step - loss: 225.5538 - categorical_accuracy: 0.8934\n",
      "Epoch 8/10\n",
      "15000/15000 [==============================] - 1s 34us/step - loss: 219.5552 - categorical_accuracy: 0.9013\n",
      "Epoch 9/10\n",
      "15000/15000 [==============================] - 1s 37us/step - loss: 213.6742 - categorical_accuracy: 0.9003\n",
      "Epoch 10/10\n",
      "15000/15000 [==============================] - 1s 36us/step - loss: 201.5090 - categorical_accuracy: 0.8959\n"
     ]
    },
    {
     "data": {
      "text/plain": [
       "<keras.callbacks.callbacks.History at 0x1f6494f2d48>"
      ]
     },
     "execution_count": 87,
     "metadata": {},
     "output_type": "execute_result"
    }
   ],
   "source": [
    "model.fit(X_train, y_train, epochs=10)"
   ]
  },
  {
   "cell_type": "code",
   "execution_count": 88,
   "metadata": {},
   "outputs": [
    {
     "name": "stdout",
     "output_type": "stream",
     "text": [
      "5000/5000 [==============================] - 0s 35us/step\n",
      "89.44000005722046\n"
     ]
    }
   ],
   "source": [
    "test = model.evaluate(X_test, y_test)\n",
    "print(test[1]*100)"
   ]
  },
  {
   "cell_type": "markdown",
   "metadata": {},
   "source": [
    "## Loss - Mean Squared Error and Optimizer - Adam"
   ]
  },
  {
   "cell_type": "code",
   "execution_count": 89,
   "metadata": {},
   "outputs": [
    {
     "name": "stdout",
     "output_type": "stream",
     "text": [
      "Model: \"sequential_15\"\n",
      "_________________________________________________________________\n",
      "Layer (type)                 Output Shape              Param #   \n",
      "=================================================================\n",
      "dense_47 (Dense)             (None, 60)                720       \n",
      "_________________________________________________________________\n",
      "dense_48 (Dense)             (None, 30)                1830      \n",
      "_________________________________________________________________\n",
      "dense_49 (Dense)             (None, 2)                 62        \n",
      "=================================================================\n",
      "Total params: 2,612\n",
      "Trainable params: 2,612\n",
      "Non-trainable params: 0\n",
      "_________________________________________________________________\n"
     ]
    }
   ],
   "source": [
    "model = models.Sequential()\n",
    "model.add(layers.Dense(60, input_dim=11, activation='relu'))\n",
    "model.add(layers.Dense(30,  activation='relu'))\n",
    "model.add(layers.Dense(2, activation='sigmoid'))\n",
    "adam = keras.optimizers.Adam(learning_rate=0.001, beta_1=0.9, beta_2=0.999, amsgrad=False)\n",
    "model.summary()"
   ]
  },
  {
   "cell_type": "code",
   "execution_count": 90,
   "metadata": {},
   "outputs": [],
   "source": [
    "model.compile(loss='mean_squared_error', optimizer=adam, metrics=['accuracy'])"
   ]
  },
  {
   "cell_type": "code",
   "execution_count": 91,
   "metadata": {},
   "outputs": [
    {
     "name": "stdout",
     "output_type": "stream",
     "text": [
      "Epoch 1/10\n",
      "15000/15000 [==============================] - 1s 43us/step - loss: 0.0783 - accuracy: 0.9243\n",
      "Epoch 2/10\n",
      "15000/15000 [==============================] - 1s 37us/step - loss: 0.0757 - accuracy: 0.9243\n",
      "Epoch 3/10\n",
      "15000/15000 [==============================] - 1s 37us/step - loss: 0.0757 - accuracy: 0.9243\n",
      "Epoch 4/10\n",
      "15000/15000 [==============================] - 1s 40us/step - loss: 0.0757 - accuracy: 0.9243\n",
      "Epoch 5/10\n",
      "15000/15000 [==============================] - 1s 41us/step - loss: 0.0757 - accuracy: 0.9243\n",
      "Epoch 6/10\n",
      "15000/15000 [==============================] - 1s 42us/step - loss: 0.0757 - accuracy: 0.9243\n",
      "Epoch 7/10\n",
      "15000/15000 [==============================] - 1s 36us/step - loss: 0.0757 - accuracy: 0.9243\n",
      "Epoch 8/10\n",
      "15000/15000 [==============================] - 1s 40us/step - loss: 0.0757 - accuracy: 0.9243\n",
      "Epoch 9/10\n",
      "15000/15000 [==============================] - 1s 39us/step - loss: 0.0757 - accuracy: 0.9243\n",
      "Epoch 10/10\n",
      "15000/15000 [==============================] - 1s 42us/step - loss: 0.0757 - accuracy: 0.9243\n"
     ]
    },
    {
     "data": {
      "text/plain": [
       "<keras.callbacks.callbacks.History at 0x1f649a63808>"
      ]
     },
     "execution_count": 91,
     "metadata": {},
     "output_type": "execute_result"
    }
   ],
   "source": [
    "model.fit(X_train, y_train, epochs=10)"
   ]
  },
  {
   "cell_type": "code",
   "execution_count": 92,
   "metadata": {},
   "outputs": [
    {
     "name": "stdout",
     "output_type": "stream",
     "text": [
      "5000/5000 [==============================] - 0s 41us/step\n",
      "92.10000038146973\n"
     ]
    }
   ],
   "source": [
    "test = model.evaluate(X_test, y_test)\n",
    "print(test[1]*100)"
   ]
  },
  {
   "cell_type": "markdown",
   "metadata": {},
   "source": [
    "## Loss - Mean Squared Error and Optimizer - Adamax"
   ]
  },
  {
   "cell_type": "code",
   "execution_count": 93,
   "metadata": {},
   "outputs": [
    {
     "name": "stdout",
     "output_type": "stream",
     "text": [
      "Model: \"sequential_16\"\n",
      "_________________________________________________________________\n",
      "Layer (type)                 Output Shape              Param #   \n",
      "=================================================================\n",
      "dense_50 (Dense)             (None, 60)                720       \n",
      "_________________________________________________________________\n",
      "dense_51 (Dense)             (None, 30)                1830      \n",
      "_________________________________________________________________\n",
      "dense_52 (Dense)             (None, 2)                 62        \n",
      "=================================================================\n",
      "Total params: 2,612\n",
      "Trainable params: 2,612\n",
      "Non-trainable params: 0\n",
      "_________________________________________________________________\n"
     ]
    }
   ],
   "source": [
    "model = models.Sequential()\n",
    "model.add(layers.Dense(60, input_dim=11, activation='relu'))\n",
    "model.add(layers.Dense(30,  activation='relu'))\n",
    "model.add(layers.Dense(2, activation='sigmoid'))\n",
    "adamax = keras.optimizers.Adamax(learning_rate=0.002, beta_1=0.9, beta_2=0.999)\n",
    "model.summary()"
   ]
  },
  {
   "cell_type": "code",
   "execution_count": 94,
   "metadata": {},
   "outputs": [],
   "source": [
    "model.compile(loss='mean_squared_error', optimizer=adamax, metrics=['accuracy'])"
   ]
  },
  {
   "cell_type": "code",
   "execution_count": 95,
   "metadata": {},
   "outputs": [
    {
     "name": "stdout",
     "output_type": "stream",
     "text": [
      "Epoch 1/20\n",
      "15000/15000 [==============================] - 1s 52us/step - loss: 0.5000 - accuracy: 0.9243\n",
      "Epoch 2/20\n",
      "15000/15000 [==============================] - 1s 38us/step - loss: 0.5000 - accuracy: 0.9243\n",
      "Epoch 3/20\n",
      "15000/15000 [==============================] - 1s 42us/step - loss: 0.5000 - accuracy: 0.9243\n",
      "Epoch 4/20\n",
      "15000/15000 [==============================] - 1s 42us/step - loss: 0.5000 - accuracy: 0.9243\n",
      "Epoch 5/20\n",
      "15000/15000 [==============================] - 1s 40us/step - loss: 0.5000 - accuracy: 0.9243\n",
      "Epoch 6/20\n",
      "15000/15000 [==============================] - 1s 34us/step - loss: 0.5000 - accuracy: 0.9243\n",
      "Epoch 7/20\n",
      "15000/15000 [==============================] - 1s 38us/step - loss: 0.5000 - accuracy: 0.9243\n",
      "Epoch 8/20\n",
      "15000/15000 [==============================] - 1s 37us/step - loss: 0.5000 - accuracy: 0.9243\n",
      "Epoch 9/20\n",
      "15000/15000 [==============================] - 1s 38us/step - loss: 0.5000 - accuracy: 0.9243\n",
      "Epoch 10/20\n",
      "15000/15000 [==============================] - 1s 35us/step - loss: 0.5000 - accuracy: 0.9243\n",
      "Epoch 11/20\n",
      "15000/15000 [==============================] - 1s 36us/step - loss: 0.5000 - accuracy: 0.9243\n",
      "Epoch 12/20\n",
      "15000/15000 [==============================] - 1s 35us/step - loss: 0.5000 - accuracy: 0.9243\n",
      "Epoch 13/20\n",
      "15000/15000 [==============================] - 1s 38us/step - loss: 0.5000 - accuracy: 0.9243\n",
      "Epoch 14/20\n",
      "15000/15000 [==============================] - 1s 37us/step - loss: 0.5000 - accuracy: 0.9243\n",
      "Epoch 15/20\n",
      "15000/15000 [==============================] - 1s 37us/step - loss: 0.5000 - accuracy: 0.9243\n",
      "Epoch 16/20\n",
      "15000/15000 [==============================] - 1s 37us/step - loss: 0.5000 - accuracy: 0.9243\n",
      "Epoch 17/20\n",
      "15000/15000 [==============================] - 1s 37us/step - loss: 0.5000 - accuracy: 0.9243\n",
      "Epoch 18/20\n",
      "15000/15000 [==============================] - 1s 37us/step - loss: 0.5000 - accuracy: 0.9243\n",
      "Epoch 19/20\n",
      "15000/15000 [==============================] - 1s 35us/step - loss: 0.5000 - accuracy: 0.9243\n",
      "Epoch 20/20\n",
      "15000/15000 [==============================] - 1s 36us/step - loss: 0.5000 - accuracy: 0.9243\n"
     ]
    },
    {
     "data": {
      "text/plain": [
       "<keras.callbacks.callbacks.History at 0x1f6499bd808>"
      ]
     },
     "execution_count": 95,
     "metadata": {},
     "output_type": "execute_result"
    }
   ],
   "source": [
    "model.fit(X_train, y_train, epochs=20)"
   ]
  },
  {
   "cell_type": "code",
   "execution_count": 96,
   "metadata": {},
   "outputs": [
    {
     "name": "stdout",
     "output_type": "stream",
     "text": [
      "5000/5000 [==============================] - 0s 40us/step\n",
      "92.10000038146973\n"
     ]
    }
   ],
   "source": [
    "test = model.evaluate(X_test, y_test)\n",
    "print(test[1]*100)"
   ]
  },
  {
   "cell_type": "markdown",
   "metadata": {},
   "source": [
    "## Loss - Mean Squared Error and Optimizer - NAdam"
   ]
  },
  {
   "cell_type": "code",
   "execution_count": 97,
   "metadata": {},
   "outputs": [
    {
     "name": "stdout",
     "output_type": "stream",
     "text": [
      "Model: \"sequential_17\"\n",
      "_________________________________________________________________\n",
      "Layer (type)                 Output Shape              Param #   \n",
      "=================================================================\n",
      "dense_53 (Dense)             (None, 60)                720       \n",
      "_________________________________________________________________\n",
      "dense_54 (Dense)             (None, 30)                1830      \n",
      "_________________________________________________________________\n",
      "dense_55 (Dense)             (None, 2)                 62        \n",
      "=================================================================\n",
      "Total params: 2,612\n",
      "Trainable params: 2,612\n",
      "Non-trainable params: 0\n",
      "_________________________________________________________________\n"
     ]
    }
   ],
   "source": [
    "model = models.Sequential()\n",
    "model.add(layers.Dense(60, input_dim=11, activation='relu'))\n",
    "model.add(layers.Dense(30,  activation='relu'))\n",
    "model.add(layers.Dense(2, activation='sigmoid'))\n",
    "nadam = keras.optimizers.Nadam(learning_rate=0.002, beta_1=0.9, beta_2=0.999)\n",
    "model.summary()"
   ]
  },
  {
   "cell_type": "code",
   "execution_count": 98,
   "metadata": {},
   "outputs": [],
   "source": [
    "model.compile(loss='mean_squared_error', optimizer=nadam, metrics=['accuracy'])"
   ]
  },
  {
   "cell_type": "code",
   "execution_count": 99,
   "metadata": {},
   "outputs": [
    {
     "name": "stdout",
     "output_type": "stream",
     "text": [
      "Epoch 1/20\n",
      "15000/15000 [==============================] - 1s 53us/step - loss: 0.4581 - accuracy: 0.8853\n",
      "Epoch 2/20\n",
      "15000/15000 [==============================] - 1s 43us/step - loss: 0.5000 - accuracy: 0.9243\n",
      "Epoch 3/20\n",
      "15000/15000 [==============================] - 1s 43us/step - loss: 0.5000 - accuracy: 0.9243\n",
      "Epoch 4/20\n",
      "15000/15000 [==============================] - 1s 38us/step - loss: 0.5000 - accuracy: 0.9243\n",
      "Epoch 5/20\n",
      "15000/15000 [==============================] - 1s 38us/step - loss: 0.5000 - accuracy: 0.9243\n",
      "Epoch 6/20\n",
      "15000/15000 [==============================] - 1s 39us/step - loss: 0.5000 - accuracy: 0.9243\n",
      "Epoch 7/20\n",
      "15000/15000 [==============================] - 1s 38us/step - loss: 0.5000 - accuracy: 0.9243\n",
      "Epoch 8/20\n",
      "15000/15000 [==============================] - 1s 36us/step - loss: 0.5000 - accuracy: 0.9243\n",
      "Epoch 9/20\n",
      "15000/15000 [==============================] - 1s 37us/step - loss: 0.5000 - accuracy: 0.9243\n",
      "Epoch 10/20\n",
      "15000/15000 [==============================] - 1s 37us/step - loss: 0.5000 - accuracy: 0.9243\n",
      "Epoch 11/20\n",
      "15000/15000 [==============================] - 1s 36us/step - loss: 0.5000 - accuracy: 0.9243\n",
      "Epoch 12/20\n",
      "15000/15000 [==============================] - 1s 37us/step - loss: 0.5000 - accuracy: 0.9243\n",
      "Epoch 13/20\n",
      "15000/15000 [==============================] - 1s 42us/step - loss: 0.5000 - accuracy: 0.9243\n",
      "Epoch 14/20\n",
      "15000/15000 [==============================] - 1s 43us/step - loss: 0.5000 - accuracy: 0.9243\n",
      "Epoch 15/20\n",
      "15000/15000 [==============================] - 1s 41us/step - loss: 0.5000 - accuracy: 0.9243\n",
      "Epoch 16/20\n",
      "15000/15000 [==============================] - 1s 45us/step - loss: 0.5000 - accuracy: 0.9243\n",
      "Epoch 17/20\n",
      "15000/15000 [==============================] - 1s 39us/step - loss: 0.5000 - accuracy: 0.9243\n",
      "Epoch 18/20\n",
      "15000/15000 [==============================] - 1s 37us/step - loss: 0.5000 - accuracy: 0.9243\n",
      "Epoch 19/20\n",
      "15000/15000 [==============================] - 1s 37us/step - loss: 0.5000 - accuracy: 0.9243\n",
      "Epoch 20/20\n",
      "15000/15000 [==============================] - 1s 37us/step - loss: 0.5000 - accuracy: 0.9243\n"
     ]
    },
    {
     "data": {
      "text/plain": [
       "<keras.callbacks.callbacks.History at 0x1f64b20a188>"
      ]
     },
     "execution_count": 99,
     "metadata": {},
     "output_type": "execute_result"
    }
   ],
   "source": [
    "model.fit(X_train, y_train, epochs=20)"
   ]
  },
  {
   "cell_type": "code",
   "execution_count": 100,
   "metadata": {},
   "outputs": [
    {
     "name": "stdout",
     "output_type": "stream",
     "text": [
      "5000/5000 [==============================] - 0s 38us/step\n",
      "92.10000038146973\n"
     ]
    }
   ],
   "source": [
    "test = model.evaluate(X_test, y_test)\n",
    "print(test[1]*100)"
   ]
  },
  {
   "cell_type": "markdown",
   "metadata": {},
   "source": [
    "# Using Generator"
   ]
  },
  {
   "cell_type": "code",
   "execution_count": 101,
   "metadata": {},
   "outputs": [],
   "source": [
    "def gen():\n",
    "    while True:\n",
    "        sample = data.sample()\n",
    "        y = sample[['card_offer_label']]\n",
    "        X = sample[['customer_id','est_income','hold_bal','pref_cust_prob', 'imp_cscore', 'RiskScore','imp_crediteval','axio_score','country_reg_label','ad_exp_label','demographic_slice_label']]\n",
    "        y = np.ravel(y.values)\n",
    "        X = X.values\n",
    "        X = np.asarray(X)\n",
    "        y = np.ravel(y)\n",
    "        X = np.ravel(X)\n",
    "        X = X.reshape(1,11)\n",
    "        yield X, y"
   ]
  },
  {
   "cell_type": "code",
   "execution_count": 102,
   "metadata": {},
   "outputs": [
    {
     "data": {
      "text/plain": [
       "(array([[3.32980000e+04, 3.19629437e+04, 5.23100959e+01, 7.49410770e-02,\n",
       "         6.16000000e+02, 7.06625806e+02, 2.38507175e+01, 4.74459986e-01,\n",
       "         1.00000000e+00, 0.00000000e+00, 2.00000000e+00]]), array([0]))"
      ]
     },
     "execution_count": 102,
     "metadata": {},
     "output_type": "execute_result"
    }
   ],
   "source": [
    "mygen=gen()\n",
    "next(mygen)"
   ]
  },
  {
   "cell_type": "code",
   "execution_count": 103,
   "metadata": {},
   "outputs": [
    {
     "name": "stdout",
     "output_type": "stream",
     "text": [
      "Model: \"sequential_18\"\n",
      "_________________________________________________________________\n",
      "Layer (type)                 Output Shape              Param #   \n",
      "=================================================================\n",
      "dense_56 (Dense)             (None, 60)                720       \n",
      "_________________________________________________________________\n",
      "dense_57 (Dense)             (None, 30)                1830      \n",
      "_________________________________________________________________\n",
      "gaussian_noise_6 (GaussianNo (None, 30)                0         \n",
      "_________________________________________________________________\n",
      "dense_58 (Dense)             (None, 1)                 31        \n",
      "=================================================================\n",
      "Total params: 2,581\n",
      "Trainable params: 2,581\n",
      "Non-trainable params: 0\n",
      "_________________________________________________________________\n"
     ]
    }
   ],
   "source": [
    "model = models.Sequential()\n",
    "model.add(layers.Dense(60, input_dim=11, activation='relu'))\n",
    "model.add(layers.Dense(30,  activation='relu'))\n",
    "#model.add(layers.Dense(2, activation='sigmoid'))\n",
    "nadam = keras.optimizers.Nadam(learning_rate=0.002, beta_1=0.9, beta_2=0.999)\n",
    "model.add(GaussianNoise(0.1))\n",
    "model.add(layers.Dense(1, activation='sigmoid'))\n",
    "model.summary()"
   ]
  },
  {
   "cell_type": "code",
   "execution_count": 104,
   "metadata": {},
   "outputs": [],
   "source": [
    "model.compile(loss='mean_squared_error', optimizer=nadam, metrics=['accuracy'])"
   ]
  },
  {
   "cell_type": "code",
   "execution_count": 105,
   "metadata": {},
   "outputs": [
    {
     "name": "stdout",
     "output_type": "stream",
     "text": [
      "Epoch 1/10\n",
      "1000/1000 [==============================] - 5s 5ms/step - loss: 0.0730 - accuracy: 0.9270\n",
      "Epoch 2/10\n",
      "1000/1000 [==============================] - 4s 4ms/step - loss: 0.0850 - accuracy: 0.9150\n",
      "Epoch 3/10\n",
      "1000/1000 [==============================] - 4s 4ms/step - loss: 0.0790 - accuracy: 0.9210\n",
      "Epoch 4/10\n",
      "1000/1000 [==============================] - 4s 4ms/step - loss: 0.1000 - accuracy: 0.9000\n",
      "Epoch 5/10\n",
      "1000/1000 [==============================] - 4s 4ms/step - loss: 0.0890 - accuracy: 0.9110\n",
      "Epoch 6/10\n",
      "1000/1000 [==============================] - 4s 4ms/step - loss: 0.0710 - accuracy: 0.9290\n",
      "Epoch 7/10\n",
      "1000/1000 [==============================] - 4s 4ms/step - loss: 0.0860 - accuracy: 0.9140\n",
      "Epoch 8/10\n",
      "1000/1000 [==============================] - 4s 4ms/step - loss: 0.0730 - accuracy: 0.9270\n",
      "Epoch 9/10\n",
      "1000/1000 [==============================] - 4s 4ms/step - loss: 0.0680 - accuracy: 0.9320\n",
      "Epoch 10/10\n",
      "1000/1000 [==============================] - 4s 4ms/step - loss: 0.0770 - accuracy: 0.9230\n"
     ]
    },
    {
     "data": {
      "text/plain": [
       "<keras.callbacks.callbacks.History at 0x1f64d8d71c8>"
      ]
     },
     "execution_count": 105,
     "metadata": {},
     "output_type": "execute_result"
    }
   ],
   "source": [
    "model.fit_generator(mygen,steps_per_epoch=1000,epochs=10)"
   ]
  },
  {
   "cell_type": "code",
   "execution_count": 106,
   "metadata": {},
   "outputs": [
    {
     "name": "stdout",
     "output_type": "stream",
     "text": [
      "100.0\n"
     ]
    }
   ],
   "source": [
    "test = model.evaluate_generator(mygen, steps=5)\n",
    "print(test[1]*100)"
   ]
  },
  {
   "cell_type": "code",
   "execution_count": 107,
   "metadata": {},
   "outputs": [
    {
     "name": "stdout",
     "output_type": "stream",
     "text": [
      "100.0\n"
     ]
    }
   ],
   "source": [
    "test = model.evaluate_generator(mygen, steps=5)\n",
    "print(test[1]*100)"
   ]
  },
  {
   "cell_type": "code",
   "execution_count": 108,
   "metadata": {},
   "outputs": [
    {
     "name": "stdout",
     "output_type": "stream",
     "text": [
      "100.0\n"
     ]
    }
   ],
   "source": [
    "test = model.evaluate_generator(mygen, steps=5)\n",
    "print(test[1]*100)"
   ]
  },
  {
   "cell_type": "code",
   "execution_count": 109,
   "metadata": {},
   "outputs": [
    {
     "name": "stdout",
     "output_type": "stream",
     "text": [
      "100.0\n"
     ]
    }
   ],
   "source": [
    "test = model.evaluate_generator(mygen, steps=5)\n",
    "print(test[1]*100)"
   ]
  },
  {
   "cell_type": "code",
   "execution_count": 110,
   "metadata": {},
   "outputs": [
    {
     "name": "stdout",
     "output_type": "stream",
     "text": [
      "60.00000238418579\n"
     ]
    }
   ],
   "source": [
    "test = model.evaluate_generator(mygen, steps=5)\n",
    "print(test[1]*100)"
   ]
  },
  {
   "cell_type": "code",
   "execution_count": null,
   "metadata": {},
   "outputs": [],
   "source": []
  }
 ],
 "metadata": {
  "kernelspec": {
   "display_name": "Python 3",
   "language": "python",
   "name": "python3"
  },
  "language_info": {
   "codemirror_mode": {
    "name": "ipython",
    "version": 3
   },
   "file_extension": ".py",
   "mimetype": "text/x-python",
   "name": "python",
   "nbconvert_exporter": "python",
   "pygments_lexer": "ipython3",
   "version": "3.7.6"
  }
 },
 "nbformat": 4,
 "nbformat_minor": 2
}
